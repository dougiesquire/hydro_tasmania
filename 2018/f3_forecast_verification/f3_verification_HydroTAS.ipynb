{
 "cells": [
  {
   "cell_type": "markdown",
   "metadata": {},
   "source": [
    "# Skill of f3 using sign test"
   ]
  },
  {
   "cell_type": "code",
   "execution_count": 61,
   "metadata": {},
   "outputs": [],
   "source": [
    "import re\n",
    "import os\n",
    "import glob\n",
    "import doppyo\n",
    "import itertools\n",
    "import regionmask\n",
    "import numpy as np\n",
    "import pandas as pd\n",
    "import xarray as xr\n",
    "\n",
    "import matplotlib\n",
    "import matplotlib.pyplot as plt\n",
    "from matplotlib.collections import LineCollection\n",
    "\n",
    "# Notebook specific -----\n",
    "%matplotlib inline"
   ]
  },
  {
   "cell_type": "code",
   "execution_count": 2,
   "metadata": {},
   "outputs": [
    {
     "name": "stderr",
     "output_type": "stream",
     "text": [
      "/flush4/squ027/miniconda3/envs/pangeo/lib/python3.6/site-packages/dask_jobqueue/config.py:12: YAMLLoadWarning: calling yaml.load() without Loader=... is deprecated, as the default Loader is unsafe. Please read https://msg.pyyaml.org/load for full details.\n",
      "  defaults = yaml.load(f)\n",
      "/flush4/squ027/miniconda3/envs/pangeo/lib/python3.6/site-packages/distributed/deploy/local.py:138: UserWarning: diagnostics_port has been deprecated. Please use `dashboard_address=` instead\n",
      "  \"diagnostics_port has been deprecated. \"\n"
     ]
    },
    {
     "data": {
      "application/vnd.jupyter.widget-view+json": {
       "model_id": "e362e191d03a4bc4bbf1efa9df5bd3b7",
       "version_major": 2,
       "version_minor": 0
      },
      "text/plain": [
       "VBox(children=(HTML(value='<h2>SLURMCluster</h2>'), HBox(children=(HTML(value='\\n<div>\\n  <style scoped>\\n    …"
      ]
     },
     "metadata": {},
     "output_type": "display_data"
    }
   ],
   "source": [
    "from dask_jobqueue import SLURMCluster\n",
    "\n",
    "cluster = SLURMCluster(cores=1,\n",
    "                       memory='8GB',\n",
    "                       walltime='03:00:00')\n",
    "cluster"
   ]
  },
  {
   "cell_type": "code",
   "execution_count": 3,
   "metadata": {},
   "outputs": [],
   "source": [
    "from dask.distributed import Client\n",
    "client = Client(cluster)"
   ]
  },
  {
   "cell_type": "code",
   "execution_count": 128,
   "metadata": {},
   "outputs": [],
   "source": [
    "saveloc = '/OSM/CBR/OA_DCFP/work/squ027/squire_scratch/projects/HydroTAS/f3_forecast_verification/figures/'"
   ]
  },
  {
   "cell_type": "markdown",
   "metadata": {},
   "source": [
    "# Notebook functions"
   ]
  },
  {
   "cell_type": "code",
   "execution_count": 5,
   "metadata": {},
   "outputs": [],
   "source": [
    "lambda_anomalize = lambda data, clim: doppyo.utils.datetime_to_leadtime(\n",
    "                                          doppyo.utils.anomalize(\n",
    "                                              doppyo.utils.leadtime_to_datetime(data), clim))"
   ]
  },
  {
   "cell_type": "code",
   "execution_count": 6,
   "metadata": {},
   "outputs": [],
   "source": [
    "def natural_keys(path):\n",
    "    basename = os.path.basename(path)\n",
    "    return [ int(c) for c in re.split('(\\d+)', basename) if c.isdigit()]"
   ]
  },
  {
   "cell_type": "code",
   "execution_count": 7,
   "metadata": {},
   "outputs": [],
   "source": [
    "def cv_anomalize(fcst, clim_ts, leave_out_years=1, time_dim = 'init_date'):\n",
    "    \"\"\" Anomalize provided data in a \"cross-validated\" manner \"\"\"\n",
    "    \n",
    "    if (leave_out_years % 2) == 0:\n",
    "        raise ValueError('leave_out_years must be odd')\n",
    "    \n",
    "    span = (leave_out_years - 1) / 2\n",
    "    \n",
    "    fcst_year = fcst[time_dim].dt.year.item()\n",
    "    remove_years = np.arange(fcst_year-span, fcst_year+span+1)\n",
    "    \n",
    "    clim_dates = clim_ts[time_dim].values\n",
    "    if not hasattr(clim_dates, \"__iter__\"):\n",
    "        clim_dates = [clim_dates]\n",
    "        \n",
    "    dates_2_use = [date for date in clim_dates if pd.to_datetime(date).year not in remove_years]\n",
    "    \n",
    "    clim = clim_ts.sel({time_dim : dates_2_use}).groupby(time_dim+'.month').mean(time_dim)\n",
    "\n",
    "    return fcst - clim.sel(month = fcst[time_dim].dt.month.values)"
   ]
  },
  {
   "cell_type": "code",
   "execution_count": 8,
   "metadata": {},
   "outputs": [],
   "source": [
    "colorsd = ['#1f77b4','#ff7f0e','#2ca02c','#d62728','#9467bd','#8c564b','#e377c2']\n",
    "colors = colorsd"
   ]
  },
  {
   "cell_type": "code",
   "execution_count": 9,
   "metadata": {},
   "outputs": [],
   "source": [
    "upper_color = (8 + np.array([0, 0.5, 1])) / 9\n",
    "lower_color = (8 + np.array([1, 0.5, 0])) / 9"
   ]
  },
  {
   "cell_type": "markdown",
   "metadata": {},
   "source": [
    "# A note about anomalies\n",
    "The CMC Can3/4 hindcasts / forecasts span the periods 1981-01 -> 2010-12 / 2011-01 -> 2018-09. The GFDL and COLA models span 1982-01 -> 2018-11. The Hadley ISST data spans 1870-01 -> 2018-02. The f3 hindcasts span 2002-02 -> 2015-12\n",
    "The mutual span of these datasets is **2002-02 -> 2015-12**\n",
    "\n",
    "Given the short f3 hindcasts, the only possible approach for calculating anomalies that includes a bias correction is via a (cheating) cross-validation approach (**c1**) : model anomalies over the period **2002-02 -> 2015-12** are computed relative to the (lead-time-dependent) ensemble mean model climatology over the same period using cross-validation - see Kirtman and Min (2009), Kirtman *et al.* (2014)... Similarly, observed anomalies over the period **2002-02 -> 2015-12** are computed relative to the observed climatology over the same period using cross-validation\n",
    "\n",
    "The anomalies of all models are computed in this way, making for fair comparison between the different models. Note however, than any estimate of absolute skill will be substantially **overestimated**\n",
    "\n",
    "Biased anomalies are also computed relative to the observed climatology over the period 1970-2000 (**c0**)"
   ]
  },
  {
   "cell_type": "markdown",
   "metadata": {},
   "source": [
    "# Load the data"
   ]
  },
  {
   "cell_type": "code",
   "execution_count": 10,
   "metadata": {},
   "outputs": [],
   "source": [
    "compute_data = False # If True, recomputes quantities from raw data and saves to dataloc, otherwise loads from dataloc\n",
    "dataloc = '/OSM/CBR/OA_DCFP/work/squ027/intermediate_products/tmp/'"
   ]
  },
  {
   "cell_type": "markdown",
   "metadata": {},
   "source": [
    "### Raw Hadley ISST data"
   ]
  },
  {
   "cell_type": "code",
   "execution_count": 11,
   "metadata": {},
   "outputs": [],
   "source": [
    "if compute_data:\n",
    "    had_sst_full_ts = xr.open_dataset(dataloc + 'ENSO_predictability.had_sst_raw_ts.nc')['sst'].rename('had')\n",
    "    had_nino4_full_ts = doppyo.diagnostic.nino4(had_sst_full_ts).rename('had')\n",
    "    had_nino4_full = doppyo.utils.stack_by_init_date(had_nino4_full_ts, init_dates=pd.date_range('1982-01','2015-12',freq='MS'), N_lead_steps=24).rename('had')\n",
    "    \n",
    "    had_nino4_full_ts.to_netcdf(dataloc + 'HydroTas.had_nino4_full_ts.nc')\n",
    "    had_nino4_full.to_netcdf(dataloc + 'HydroTas.had_nino4_full.nc')\n",
    "else:\n",
    "    had_nino4_full_ts = xr.open_dataset(dataloc + 'HydroTas.had_nino4_full_ts.nc')['had']\n",
    "    had_nino4_full = xr.open_dataset(dataloc + 'HydroTas.had_nino4_full.nc')['had']"
   ]
  },
  {
   "cell_type": "markdown",
   "metadata": {},
   "source": [
    "##### compute anomalies"
   ]
  },
  {
   "cell_type": "code",
   "execution_count": 12,
   "metadata": {},
   "outputs": [],
   "source": [
    "clim_period = slice('1970','2000')\n",
    "had_clim = had_nino4_full_ts.sel(time=clim_period).groupby('time.month').mean('time')\n",
    "\n",
    "if compute_data:    \n",
    "    had_nino4_ts = (had_nino4_full_ts.groupby('time.month') - had_clim).drop('month')\n",
    "    had_nino4_c0 = doppyo.utils.stack_by_init_date(had_nino4_ts, init_dates=pd.date_range('2002-02','2015-12',freq='MS'), N_lead_steps=24).rename('had_c0')\n",
    "    \n",
    "    had_nino4 = had_nino4_c0.to_dataset()"
   ]
  },
  {
   "cell_type": "code",
   "execution_count": 13,
   "metadata": {},
   "outputs": [],
   "source": [
    "if compute_data:\n",
    "    clim_period = slice('2002-02','2015')\n",
    "    clim_use = had_nino4_full_ts.sel(time=clim_period)\n",
    "    had_nino4_ts = had_nino4_full_ts.groupby('time').apply(cv_anomalize, clim_ts=clim_use, leave_out_years=3, time_dim='time')\n",
    "    had_nino4_c1 = doppyo.utils.stack_by_init_date(had_nino4_ts, init_dates=pd.date_range('1982-01','2018-02',freq='MS'), N_lead_steps=24).drop('month').rename('had_c1')\n",
    "    \n",
    "    had_nino4['had_c1'] = had_nino4_c1  "
   ]
  },
  {
   "cell_type": "code",
   "execution_count": 14,
   "metadata": {},
   "outputs": [],
   "source": [
    "if compute_data:\n",
    "    had_nino4.to_netcdf(dataloc + 'HydroTas.had_nino4.nc')\n",
    "else:\n",
    "    had_nino4 = xr.open_dataset(dataloc + 'HydroTas.had_nino4.nc')"
   ]
  },
  {
   "cell_type": "markdown",
   "metadata": {},
   "source": [
    "### JRA precip data"
   ]
  },
  {
   "cell_type": "code",
   "execution_count": 16,
   "metadata": {},
   "outputs": [],
   "source": [
    "if compute_data:\n",
    "    obs_filepath = '/OSM/CBR/OA_DCFP/data/observations/JRA55/isobaric/'\n",
    "    obs_names = ['061_tprat/cat/jra.55.tprat.000.1958010100_2016123121.nc','TPRAT_GDS0_SFC_ave3h']\n",
    "\n",
    "    jra_precip_full_ts = xr.open_dataset(obs_filepath + obs_names[0], use_cftime=False)[obs_names[1]] \\\n",
    "                           .rename({'g0_lat_2':'lat', 'g0_lon_3':'lon', 'initial_time0_hours':'time'}) \\\n",
    "                           .mean('forecast_time1').resample({'time' : 'MS'}).sum('time').rename('jra')\n",
    "    jra_precip_full = doppyo.utils.stack_by_init_date(jra_precip_full_ts, init_dates=pd.date_range('1982-01','2015-12',freq='MS'), N_lead_steps=24).rename('jra')\n",
    "\n",
    "    jra_precip_full_ts.to_netcdf(dataloc + 'HydroTas.jra_precip_full_ts.nc')\n",
    "    jra_precip_full.to_netcdf(dataloc + 'HydroTas.jra_precip_full.nc')\n",
    "else:\n",
    "    jra_precip_full_ts = xr.open_dataset(dataloc + 'HydroTas.jra_precip_full_ts.nc')['jra']\n",
    "    jra_precip_full = xr.open_dataset(dataloc + 'HydroTas.jra_precip_full.nc')['jra']"
   ]
  },
  {
   "cell_type": "markdown",
   "metadata": {},
   "source": [
    "##### compute anomalies"
   ]
  },
  {
   "cell_type": "code",
   "execution_count": 17,
   "metadata": {},
   "outputs": [],
   "source": [
    "clim_period = slice('1970','2000')\n",
    "jra_clim = jra_precip_full_ts.sel(time=clim_period).groupby('time.month').mean('time')\n",
    "\n",
    "if compute_data:    \n",
    "    jra_precip_ts = (jra_precip_full_ts.groupby('time.month') - jra_clim).drop('month')\n",
    "    jra_precip_c0 = doppyo.utils.stack_by_init_date(jra_precip_ts, init_dates=pd.date_range('2002-02','2015-12',freq='MS'), N_lead_steps=24).rename('jra_c0')\n",
    "    \n",
    "    jra_precip = jra_precip_c0.to_dataset()"
   ]
  },
  {
   "cell_type": "code",
   "execution_count": 18,
   "metadata": {},
   "outputs": [],
   "source": [
    "if compute_data:\n",
    "    clim_period = slice('2002-02','2015')\n",
    "    clim_use = jra_precip_full_ts.sel(time=clim_period)\n",
    "    jra_precip_ts = jra_precip_full_ts.groupby('time').apply(cv_anomalize, clim_ts=clim_use, leave_out_years=3, time_dim='time')\n",
    "    jra_precip_c1 = doppyo.utils.stack_by_init_date(jra_precip_ts, init_dates=pd.date_range('1982-01','2018-02',freq='MS'), N_lead_steps=24).drop('month').rename('jra_c1')\n",
    "    \n",
    "    jra_precip['jra_c1'] = jra_precip_c1  "
   ]
  },
  {
   "cell_type": "code",
   "execution_count": 19,
   "metadata": {},
   "outputs": [],
   "source": [
    "if compute_data:\n",
    "    jra_precip.to_netcdf(dataloc + 'HydroTas.jra_precip.nc')\n",
    "else:\n",
    "    jra_precip = xr.open_dataset(dataloc + 'HydroTas.jra_precip.nc')"
   ]
  },
  {
   "cell_type": "markdown",
   "metadata": {},
   "source": [
    "### Raw COLA-RSMAS-CCSM4 data"
   ]
  },
  {
   "cell_type": "code",
   "execution_count": 22,
   "metadata": {},
   "outputs": [],
   "source": [
    "if compute_data:\n",
    "    filelist = glob.glob('/OSM/CBR/OA_DCFP/data2/model_output/NMME/phase1/COLA-RSMAS-CCSM4/monthly/sst_mon_COLA-RSMAS-CCSM4_198201_r*i1p1_198201-201811.nc')\n",
    "    filelist.sort(key=natural_keys)\n",
    "\n",
    "    cola_sst_raw = xr.open_mfdataset(filelist, decode_times=False)['sst'] \\\n",
    "                     .rename({'X' : 'lon', 'Y' : 'lat', 'M' : 'ensemble', \n",
    "                              'L' : 'lead_time', 'S' : 'init_date'}).compute()\n",
    "\n",
    "    basedate = np.datetime64(cola_sst_raw.init_date.units.split(' ')[2])\n",
    "    cola_sst_raw['init_date'] = np.array([doppyo.sugar.month_delta(basedate, int(shift)) for shift in cola_sst_raw.init_date.values])\n",
    "\n",
    "    cola_sst_raw['lead_time'] = [int(lead_time - 0.5) for lead_time in cola_sst_raw['lead_time']]\n",
    "    cola_sst_raw.lead_time.attrs['units'] = 'MS'\n",
    "\n",
    "    cola_sst_raw['ensemble'] = [int(ensemble) for ensemble in cola_sst_raw['ensemble']]"
   ]
  },
  {
   "cell_type": "markdown",
   "metadata": {},
   "source": [
    "##### Compute nino3.4"
   ]
  },
  {
   "cell_type": "code",
   "execution_count": 23,
   "metadata": {},
   "outputs": [],
   "source": [
    "if compute_data:\n",
    "    cola_nino4_full = doppyo.diagnostic.nino4(cola_sst_raw).rename('cola')\n",
    "    \n",
    "    cola_nino4_full.to_netcdf(dataloc + 'HydroTas.cola_nino4_full.nc')\n",
    "else:\n",
    "    cola_nino4_full = xr.open_dataset(dataloc + 'HydroTas.cola_nino4_full.nc')['cola']"
   ]
  },
  {
   "cell_type": "markdown",
   "metadata": {},
   "source": [
    "##### compute anomalies"
   ]
  },
  {
   "cell_type": "code",
   "execution_count": 24,
   "metadata": {},
   "outputs": [],
   "source": [
    "if compute_data:\n",
    "    cola_nino4_c0 = cola_nino4_full.groupby('init_date').apply(lambda_anomalize, clim=had_clim).rename('cola_c0')\n",
    "    \n",
    "    cola_nino4 = cola_nino4_c0.to_dataset()"
   ]
  },
  {
   "cell_type": "code",
   "execution_count": 25,
   "metadata": {},
   "outputs": [],
   "source": [
    "if compute_data:\n",
    "    clim_period = slice('2002','2015')\n",
    "    cola_nino4_full_use = cola_nino4_full.sel(init_date=clim_period).mean('ensemble')\n",
    "    cola_nino4_c1 = cola_nino4_full.groupby('init_date').apply(cv_anomalize, clim_ts=cola_nino4_full_use, leave_out_years=3).rename('cola_c1')\n",
    "    \n",
    "    cola_nino4['cola_c1'] = cola_nino4_c1"
   ]
  },
  {
   "cell_type": "code",
   "execution_count": 26,
   "metadata": {},
   "outputs": [],
   "source": [
    "if compute_data:\n",
    "    cola_nino4.to_netcdf(dataloc + 'HydroTas.cola_nino4.nc')\n",
    "else:\n",
    "    cola_nino4 = xr.open_dataset(dataloc + 'HydroTas.cola_nino4.nc')"
   ]
  },
  {
   "cell_type": "markdown",
   "metadata": {},
   "source": [
    "### Raw GFDL-CM2p1-aer04 data"
   ]
  },
  {
   "cell_type": "code",
   "execution_count": 27,
   "metadata": {},
   "outputs": [],
   "source": [
    "if compute_data:\n",
    "    filelist = glob.glob('/OSM/CBR/OA_DCFP/data2/model_output/NMME/phase1/GFDL-CM2p1-aer04/monthly/sst_mon_GFDL-CM2p1-aer04_198201_r*i1p1_198201-201811.nc')\n",
    "    filelist.sort(key=natural_keys)\n",
    "\n",
    "    aer04_sst_raw = xr.open_mfdataset(filelist, decode_times=False)['sst'] \\\n",
    "                     .rename({'X' : 'lon', 'Y' : 'lat', 'M' : 'ensemble', \n",
    "                              'L' : 'lead_time', 'S' : 'init_date'}).compute() - 273.15\n",
    "\n",
    "    basedate = np.datetime64(aer04_sst_raw.init_date.units.split(' ')[2])\n",
    "    aer04_sst_raw['init_date'] = np.array([doppyo.sugar.month_delta(basedate, int(shift)) for shift in aer04_sst_raw.init_date.values])\n",
    "\n",
    "    aer04_sst_raw['lead_time'] = [int(lead_time - 0.5) for lead_time in aer04_sst_raw['lead_time']]\n",
    "    aer04_sst_raw.lead_time.attrs['units'] = 'MS'\n",
    "\n",
    "    aer04_sst_raw['ensemble'] = [int(ensemble) for ensemble in aer04_sst_raw['ensemble']]"
   ]
  },
  {
   "cell_type": "markdown",
   "metadata": {},
   "source": [
    "##### Compute nino3.4"
   ]
  },
  {
   "cell_type": "code",
   "execution_count": 28,
   "metadata": {},
   "outputs": [],
   "source": [
    "if compute_data:\n",
    "    aer04_nino4_full = doppyo.diagnostic.nino4(aer04_sst_raw).rename('aer04')\n",
    "    \n",
    "    aer04_nino4_full.to_netcdf(dataloc + 'HydroTas.aer04_nino4_full.nc')\n",
    "else:\n",
    "    aer04_nino4_full = xr.open_dataset(dataloc + 'HydroTas.aer04_nino4_full.nc')['aer04']"
   ]
  },
  {
   "cell_type": "markdown",
   "metadata": {},
   "source": [
    "##### compute anomalies"
   ]
  },
  {
   "cell_type": "code",
   "execution_count": 29,
   "metadata": {},
   "outputs": [],
   "source": [
    "if compute_data:\n",
    "    aer04_nino4_c0 = aer04_nino4_full.groupby('init_date').apply(lambda_anomalize, clim=had_clim).rename('aer04_c0')\n",
    "    \n",
    "    aer04_nino4 = aer04_nino4_c0.to_dataset()"
   ]
  },
  {
   "cell_type": "code",
   "execution_count": 30,
   "metadata": {},
   "outputs": [],
   "source": [
    "if compute_data:\n",
    "    clim_period = slice('2002','2015')\n",
    "    aer04_nino4_full_use = aer04_nino4_full.sel(init_date=clim_period).mean('ensemble')\n",
    "    aer04_nino4_c1 = aer04_nino4_full.groupby('init_date').apply(cv_anomalize, clim_ts=aer04_nino4_full_use, leave_out_years=3).rename('aer04_c1')\n",
    "    \n",
    "    aer04_nino4['aer04_c1'] = aer04_nino4_c1"
   ]
  },
  {
   "cell_type": "code",
   "execution_count": 31,
   "metadata": {},
   "outputs": [],
   "source": [
    "if compute_data:\n",
    "    aer04_nino4.to_netcdf(dataloc + 'HydroTas.aer04_nino4.nc')\n",
    "else:\n",
    "    aer04_nino4 = xr.open_dataset(dataloc + 'HydroTas.aer04_nino4.nc')"
   ]
  },
  {
   "cell_type": "markdown",
   "metadata": {},
   "source": [
    "### Raw GFDL-CM2p5-FLOR-A06 data"
   ]
  },
  {
   "cell_type": "code",
   "execution_count": 32,
   "metadata": {},
   "outputs": [],
   "source": [
    "if compute_data:\n",
    "    filelist = glob.glob('/OSM/CBR/OA_DCFP/data2/model_output/NMME/phase1/GFDL-CM2p5-FLOR-A06/monthly/sst_mon_GFDL-CM2p5-FLOR-A06_198201_r*i1p1_198201-201811.nc')\n",
    "    filelist.sort(key=natural_keys)\n",
    "\n",
    "    florA_sst_raw = xr.open_mfdataset(filelist, decode_times=False)['sst'] \\\n",
    "                     .rename({'X' : 'lon', 'Y' : 'lat', 'M' : 'ensemble', \n",
    "                              'L' : 'lead_time', 'S' : 'init_date'}).compute()\n",
    "\n",
    "    basedate = np.datetime64(florA_sst_raw.init_date.units.split(' ')[2])\n",
    "    florA_sst_raw['init_date'] = np.array([doppyo.sugar.month_delta(basedate, int(shift)) for shift in florA_sst_raw.init_date.values])\n",
    "\n",
    "    florA_sst_raw['lead_time'] = [int(lead_time - 0.5) for lead_time in florA_sst_raw['lead_time']]\n",
    "    florA_sst_raw.lead_time.attrs['units'] = 'MS'\n",
    "\n",
    "    florA_sst_raw['ensemble'] = [int(ensemble) for ensemble in florA_sst_raw['ensemble']]"
   ]
  },
  {
   "cell_type": "markdown",
   "metadata": {},
   "source": [
    "##### Compute nino3.4"
   ]
  },
  {
   "cell_type": "code",
   "execution_count": 33,
   "metadata": {},
   "outputs": [],
   "source": [
    "if compute_data:\n",
    "    florA_nino4_full = doppyo.diagnostic.nino4(florA_sst_raw).rename('florA')\n",
    "    \n",
    "    florA_nino4_full.to_netcdf(dataloc + 'HydroTas.florA_nino4_full.nc')\n",
    "else:\n",
    "    florA_nino4_full = xr.open_dataset(dataloc + 'HydroTas.florA_nino4_full.nc')['florA']"
   ]
  },
  {
   "cell_type": "markdown",
   "metadata": {},
   "source": [
    "##### compute anomalies"
   ]
  },
  {
   "cell_type": "code",
   "execution_count": 34,
   "metadata": {},
   "outputs": [],
   "source": [
    "if compute_data:\n",
    "    florA_nino4_c0 = florA_nino4_full.groupby('init_date').apply(lambda_anomalize, clim=had_clim).rename('florA_c0')\n",
    "    \n",
    "    florA_nino4 = florA_nino4_c0.to_dataset()"
   ]
  },
  {
   "cell_type": "code",
   "execution_count": 35,
   "metadata": {},
   "outputs": [],
   "source": [
    "if compute_data:\n",
    "    clim_period = slice('2002','2015')\n",
    "    florA_nino4_full_use = florA_nino4_full.sel(init_date=clim_period).mean('ensemble')\n",
    "    florA_nino4_c1 = florA_nino4_full.groupby('init_date').apply(cv_anomalize, clim_ts=florA_nino4_full_use, leave_out_years=3).rename('florA_c1')\n",
    "    \n",
    "    florA_nino4['florA_c1'] = florA_nino4_c1"
   ]
  },
  {
   "cell_type": "code",
   "execution_count": 36,
   "metadata": {},
   "outputs": [],
   "source": [
    "if compute_data:\n",
    "    florA_nino4.to_netcdf(dataloc + 'HydroTas.florA_nino4.nc')\n",
    "else:\n",
    "    florA_nino4 = xr.open_dataset(dataloc + 'HydroTas.florA_nino4.nc')"
   ]
  },
  {
   "cell_type": "markdown",
   "metadata": {},
   "source": [
    "### Raw GFDL-CM2p5-FLOR-B01 data"
   ]
  },
  {
   "cell_type": "code",
   "execution_count": 37,
   "metadata": {},
   "outputs": [],
   "source": [
    "if compute_data:\n",
    "    filelist = glob.glob('/OSM/CBR/OA_DCFP/data2/model_output/NMME/phase1/GFDL-CM2p5-FLOR-B01/monthly/sst_mon_GFDL-CM2p5-FLOR-B01_198201_r*i1p1_198201-201811.nc')\n",
    "    filelist.sort(key=natural_keys)\n",
    "\n",
    "    florB_sst_raw = xr.open_mfdataset(filelist, decode_times=False)['sst'] \\\n",
    "                     .rename({'X' : 'lon', 'Y' : 'lat', 'M' : 'ensemble', \n",
    "                              'L' : 'lead_time', 'S' : 'init_date'}).compute()\n",
    "\n",
    "    basedate = np.datetime64(florB_sst_raw.init_date.units.split(' ')[2])\n",
    "    florB_sst_raw['init_date'] = np.array([doppyo.sugar.month_delta(basedate, int(shift)) for shift in florB_sst_raw.init_date.values])\n",
    "\n",
    "    florB_sst_raw['lead_time'] = [int(lead_time - 0.5) for lead_time in florB_sst_raw['lead_time']]\n",
    "    florB_sst_raw.lead_time.attrs['units'] = 'MS'\n",
    "\n",
    "    florB_sst_raw['ensemble'] = [int(ensemble) for ensemble in florB_sst_raw['ensemble']]"
   ]
  },
  {
   "cell_type": "markdown",
   "metadata": {},
   "source": [
    "##### Compute nino3.4"
   ]
  },
  {
   "cell_type": "code",
   "execution_count": 38,
   "metadata": {},
   "outputs": [],
   "source": [
    "if compute_data:\n",
    "    florB_nino4_full = doppyo.diagnostic.nino4(florB_sst_raw).rename('florB')\n",
    "\n",
    "    florB_nino4_full.to_netcdf(dataloc + 'HydroTas.florB_nino4_full.nc')\n",
    "else:\n",
    "    florB_nino4_full = xr.open_dataset(dataloc + 'HydroTas.florB_nino4_full.nc')['florB']"
   ]
  },
  {
   "cell_type": "markdown",
   "metadata": {},
   "source": [
    "##### compute anomalies"
   ]
  },
  {
   "cell_type": "code",
   "execution_count": 39,
   "metadata": {},
   "outputs": [],
   "source": [
    "if compute_data:\n",
    "    florB_nino4_c0 = florB_nino4_full.groupby('init_date').apply(lambda_anomalize, clim=had_clim).rename('florB_c0')\n",
    "    \n",
    "    florB_nino4 = florB_nino4_c0.to_dataset()"
   ]
  },
  {
   "cell_type": "code",
   "execution_count": 40,
   "metadata": {},
   "outputs": [],
   "source": [
    "if compute_data:\n",
    "    clim_period = slice('2002','2015')\n",
    "    florB_nino4_full_use = florB_nino4_full.sel(init_date=clim_period).mean('ensemble')\n",
    "    florB_nino4_c1 = florB_nino4_full.groupby('init_date').apply(cv_anomalize, clim_ts=florB_nino4_full_use, leave_out_years=3).rename('florB_c1')\n",
    "    \n",
    "    florB_nino4['florB_c1'] = florB_nino4_c1"
   ]
  },
  {
   "cell_type": "code",
   "execution_count": 41,
   "metadata": {},
   "outputs": [],
   "source": [
    "if compute_data:\n",
    "    florB_nino4.to_netcdf(dataloc + 'HydroTas.florB_nino4.nc')\n",
    "else:\n",
    "    florB_nino4 = xr.open_dataset(dataloc + 'HydroTas.florB_nino4.nc')"
   ]
  },
  {
   "cell_type": "markdown",
   "metadata": {},
   "source": [
    "### Raw CMC CanCM3 data"
   ]
  },
  {
   "cell_type": "code",
   "execution_count": 42,
   "metadata": {},
   "outputs": [],
   "source": [
    "if compute_data:\n",
    "    folder = '/OSM/CBR/OA_DCFP/data2/model_output/NMME/phase1/CMC_CanCM3/monthly/'\n",
    "    hcstfiles = 'sst_mon_CanCM3_198101*.nc'\n",
    "    fcstfiles = 'sst_mon_CanCM3_201101*.nc'\n",
    "\n",
    "    hcstlist = glob.glob(folder + hcstfiles)\n",
    "    hcstlist.sort(key=natural_keys)\n",
    "    fcstlist = glob.glob(folder + fcstfiles)\n",
    "    fcstlist.sort(key=natural_keys)\n",
    "\n",
    "    cm3_sst_raw = xr.concat([xr.open_mfdataset(hcstlist, decode_times=False)['sst'] - 273.15,\n",
    "                             xr.open_mfdataset(fcstlist, decode_times=False)['sst'] - 273.15], dim='S') \\\n",
    "                    .rename({'X' : 'lon', 'Y' : 'lat', 'M' : 'ensemble', \n",
    "                             'L' : 'lead_time', 'S' : 'init_date'}).compute()\n",
    "\n",
    "    basedate = np.datetime64(cm3_sst_raw.init_date.units.split(' ')[2])\n",
    "    cm3_sst_raw['init_date'] = np.array([doppyo.sugar.month_delta(basedate, int(shift)) for shift in cm3_sst_raw.init_date.values])\n",
    "\n",
    "    cm3_sst_raw['lead_time'] = [int(lead_time - 0.5) for lead_time in cm3_sst_raw['lead_time']]\n",
    "    cm3_sst_raw.lead_time.attrs['units'] = 'MS'\n",
    "\n",
    "    cm3_sst_raw['ensemble'] = [int(ensemble) for ensemble in cm3_sst_raw['ensemble']]"
   ]
  },
  {
   "cell_type": "markdown",
   "metadata": {},
   "source": [
    "##### Compute nino3.4"
   ]
  },
  {
   "cell_type": "code",
   "execution_count": 43,
   "metadata": {},
   "outputs": [],
   "source": [
    "if compute_data:\n",
    "    cm3_nino4_full = doppyo.diagnostic.nino4(cm3_sst_raw).rename('cm3')\n",
    "\n",
    "    cm3_nino4_full.to_netcdf(dataloc + 'HydroTas.cm3_nino4_full.nc')\n",
    "else:\n",
    "    cm3_nino4_full = xr.open_dataset(dataloc + 'HydroTas.cm3_nino4_full.nc')['cm3']"
   ]
  },
  {
   "cell_type": "markdown",
   "metadata": {},
   "source": [
    "##### compute anomalies"
   ]
  },
  {
   "cell_type": "code",
   "execution_count": 44,
   "metadata": {},
   "outputs": [],
   "source": [
    "if compute_data:\n",
    "    cm3_nino4_c0 = cm3_nino4_full.groupby('init_date').apply(lambda_anomalize, clim=had_clim).rename('cm3_c0')\n",
    "    \n",
    "    cm3_nino4 = cm3_nino4_c0.to_dataset()"
   ]
  },
  {
   "cell_type": "code",
   "execution_count": 45,
   "metadata": {},
   "outputs": [],
   "source": [
    "if compute_data:\n",
    "    clim_period = slice('2002','2015')\n",
    "    cm3_nino4_full_use = cm3_nino4_full.sel(init_date=clim_period).mean('ensemble')\n",
    "    cm3_nino4_c1 = cm3_nino4_full.groupby('init_date').apply(cv_anomalize, clim_ts=cm3_nino4_full_use, leave_out_years=3).rename('cm3_c1')\n",
    "    \n",
    "    cm3_nino4['cm3_c1'] = cm3_nino4_c1"
   ]
  },
  {
   "cell_type": "code",
   "execution_count": 46,
   "metadata": {},
   "outputs": [],
   "source": [
    "if compute_data:\n",
    "    cm3_nino4.to_netcdf(dataloc + 'HydroTas.cm3_nino4.nc')\n",
    "else:\n",
    "    cm3_nino4 = xr.open_dataset(dataloc + 'HydroTas.cm3_nino4.nc')"
   ]
  },
  {
   "cell_type": "markdown",
   "metadata": {},
   "source": [
    "### Raw CMC CanCM4 data"
   ]
  },
  {
   "cell_type": "code",
   "execution_count": 50,
   "metadata": {},
   "outputs": [],
   "source": [
    "if compute_data:\n",
    "    folder = '/OSM/CBR/OA_DCFP/data2/model_output/NMME/phase1/CMC_CanCM4/monthly/'\n",
    "    hcstfiles = 'sst_mon_CanCM4_198101*.nc'\n",
    "    fcstfiles = 'sst_mon_CanCM4_201101*.nc'\n",
    "\n",
    "    hcstlist = glob.glob(folder + hcstfiles)\n",
    "    hcstlist.sort(key=natural_keys)\n",
    "    fcstlist = glob.glob(folder + fcstfiles)\n",
    "    fcstlist.sort(key=natural_keys)\n",
    "\n",
    "    cm4_sst_raw = xr.concat([xr.open_mfdataset(hcstlist, decode_times=False)['sst'] - 273.15,\n",
    "                             xr.open_mfdataset(fcstlist, decode_times=False)['sst'] - 273.15], dim='S') \\\n",
    "                    .rename({'X' : 'lon', 'Y' : 'lat', 'M' : 'ensemble', \n",
    "                             'L' : 'lead_time', 'S' : 'init_date'}).compute()\n",
    "\n",
    "    basedate = np.datetime64(cm4_sst_raw.init_date.units.split(' ')[2])\n",
    "    cm4_sst_raw['init_date'] = np.array([doppyo.sugar.month_delta(basedate, int(shift)) for shift in cm4_sst_raw.init_date.values])\n",
    "\n",
    "    cm4_sst_raw['lead_time'] = [int(lead_time - 0.5) for lead_time in cm4_sst_raw['lead_time']]\n",
    "    cm4_sst_raw.lead_time.attrs['units'] = 'MS'\n",
    "\n",
    "    cm4_sst_raw['ensemble'] = [int(ensemble) for ensemble in cm4_sst_raw['ensemble']]"
   ]
  },
  {
   "cell_type": "markdown",
   "metadata": {},
   "source": [
    "##### Compute nino3.4"
   ]
  },
  {
   "cell_type": "code",
   "execution_count": 51,
   "metadata": {},
   "outputs": [],
   "source": [
    "if compute_data:\n",
    "    cm4_nino4_full = doppyo.diagnostic.nino4(cm4_sst_raw).rename('cm4')\n",
    "\n",
    "    cm4_nino4_full.to_netcdf(dataloc + 'HydroTas.cm4_nino4_full.nc')\n",
    "else:\n",
    "    cm4_nino4_full = xr.open_dataset(dataloc + 'HydroTas.cm4_nino4_full.nc')['cm4']"
   ]
  },
  {
   "cell_type": "markdown",
   "metadata": {},
   "source": [
    "##### compute anomalies"
   ]
  },
  {
   "cell_type": "code",
   "execution_count": 52,
   "metadata": {},
   "outputs": [],
   "source": [
    "if compute_data:\n",
    "    cm4_nino4_c0 = cm4_nino4_full.groupby('init_date').apply(lambda_anomalize, clim=had_clim).rename('cm4_c0')\n",
    "    \n",
    "    cm4_nino4 = cm4_nino4_c0.to_dataset()"
   ]
  },
  {
   "cell_type": "code",
   "execution_count": 53,
   "metadata": {},
   "outputs": [],
   "source": [
    "if compute_data:\n",
    "    clim_period = slice('2002','2015')\n",
    "    cm4_nino4_full_use = cm4_nino4_full.sel(init_date=clim_period).mean('ensemble')\n",
    "    cm4_nino4_c1 = cm4_nino4_full.groupby('init_date').apply(cv_anomalize, clim_ts=cm4_nino4_full_use, leave_out_years=3).rename('cm4_c1')\n",
    "    \n",
    "    cm4_nino4['cm4_c1'] = cm4_nino4_c1"
   ]
  },
  {
   "cell_type": "code",
   "execution_count": 54,
   "metadata": {},
   "outputs": [],
   "source": [
    "if compute_data:\n",
    "    cm4_nino4.to_netcdf(dataloc + 'HydroTas.cm4_nino4.nc')\n",
    "else:\n",
    "    cm4_nino4 = xr.open_dataset(dataloc + 'HydroTas.cm4_nino4.nc')"
   ]
  },
  {
   "cell_type": "markdown",
   "metadata": {},
   "source": [
    "### Raw CAFE f3 forecast data"
   ]
  },
  {
   "cell_type": "markdown",
   "metadata": {},
   "source": [
    "#### SST"
   ]
  },
  {
   "cell_type": "code",
   "execution_count": 70,
   "metadata": {},
   "outputs": [],
   "source": [
    "if compute_data:\n",
    "    fcst_filepath = '/OSM/CBR/OA_DCFP/data2/model_output/CAFE/forecasts/f3'\n",
    "    fcst_filename = 'ocean_month*.nc'\n",
    "\n",
    "    init_dates = pd.date_range('2002-02','2015-12' , freq='1MS')\n",
    "    ensembles = range(1, 12) \n",
    "\n",
    "    # Generate list of paths and coordinates to create -----\n",
    "    paths = [({'init_date' : i, 'ensemble' : e}, sorted(glob.glob(fcst_filepath + '/yr' + str(i.year) + \n",
    "                                                                             '/mn' + str(i.month) + \n",
    "                                                                             '/OUTPUT.' + str(e) + '/' + fcst_filename)))\n",
    "             for i,e in itertools.product(init_dates, ensembles)]\n",
    "    \n",
    "    f3_sst_raw = doppyo.sugar.load_and_concat(paths, variables='temp', convert_time_to_lead=True, clip_time_at=2*12, **{'decode_coords':False}) \\\n",
    "                             .isel(st_ocean=0, drop=True).rename('f3')\n",
    "    # Adjust lead time units attribute to be correct -----\n",
    "    f3_sst_raw.lead_time.attrs['units'] = 'MS'"
   ]
  },
  {
   "cell_type": "markdown",
   "metadata": {},
   "source": [
    "##### Compute nino3.4"
   ]
  },
  {
   "cell_type": "code",
   "execution_count": 71,
   "metadata": {},
   "outputs": [],
   "source": [
    "if compute_data:\n",
    "    f3_nino4_full = doppyo.diagnostic.nino4(f3_sst_raw).rename('f3').compute()\n",
    "\n",
    "    f3_nino4_full.to_netcdf(dataloc + 'HydroTas.f3_nino4_full.nc')\n",
    "else:\n",
    "    f3_nino4_full = xr.open_dataset(dataloc + 'HydroTas.f3_nino4_full.nc')['f3']"
   ]
  },
  {
   "cell_type": "markdown",
   "metadata": {},
   "source": [
    "##### compute anomalies"
   ]
  },
  {
   "cell_type": "code",
   "execution_count": 72,
   "metadata": {},
   "outputs": [],
   "source": [
    "if compute_data:\n",
    "    f3_nino4_c0 = f3_nino4_full.groupby('init_date').apply(lambda_anomalize, clim=had_clim).rename('f3_c0')\n",
    "    \n",
    "    f3_nino4 = f3_nino4_c0.to_dataset()"
   ]
  },
  {
   "cell_type": "code",
   "execution_count": 73,
   "metadata": {},
   "outputs": [],
   "source": [
    "if compute_data:\n",
    "    clim_period = slice('2002','2015')\n",
    "    f3_nino4_full_use = f3_nino4_full.sel(init_date=clim_period).mean('ensemble')\n",
    "    f3_nino4_c1 = f3_nino4_full.groupby('init_date').apply(cv_anomalize, clim_ts=f3_nino4_full_use, leave_out_years=3).rename('f3_c1')\n",
    "    \n",
    "    f3_nino4['f3_c1'] = f3_nino4_c1"
   ]
  },
  {
   "cell_type": "code",
   "execution_count": 74,
   "metadata": {},
   "outputs": [],
   "source": [
    "if compute_data:\n",
    "    f3_nino4.to_netcdf(dataloc + 'HydroTas.f3_nino4.nc')\n",
    "else:\n",
    "    f3_nino4 = xr.open_dataset(dataloc + 'HydroTas.f3_nino4.nc')"
   ]
  },
  {
   "cell_type": "markdown",
   "metadata": {},
   "source": [
    "#### Precipitation"
   ]
  },
  {
   "cell_type": "code",
   "execution_count": 75,
   "metadata": {},
   "outputs": [],
   "source": [
    "if compute_data:\n",
    "    fcst_filepath = '/OSM/CBR/OA_DCFP/data2/model_output/CAFE/forecasts/f3'\n",
    "    fcst_filename = 'atmos_daily*.nc'\n",
    "\n",
    "    init_dates = pd.date_range('2002-02','2015-12' , freq='1MS')\n",
    "    ensembles = range(1, 12) \n",
    "\n",
    "    # Generate list of paths and coordinates to create -----\n",
    "    paths = [({'init_date' : i, 'ensemble' : e}, sorted(glob.glob(fcst_filepath + '/yr' + str(i.year) + \n",
    "                                                                             '/mn' + str(i.month) + \n",
    "                                                                             '/OUTPUT.' + str(e) + '/' + fcst_filename)))\n",
    "             for i,e in itertools.product(init_dates, ensembles)]\n",
    "    \n",
    "    f3_precip_raw = doppyo.sugar.load_and_concat(paths, variables='precip', resample_time_like=['MS','sum'], convert_time_to_lead=True, \n",
    "                                                 clip_time_at=24, **{'decode_coords':False}).rename('f3') * 60 * 60 * 24 / 998.2 * 1000"
   ]
  },
  {
   "cell_type": "code",
   "execution_count": 76,
   "metadata": {},
   "outputs": [],
   "source": [
    "if compute_data:\n",
    "    f3_precip_full = f3_precip_raw.compute()\n",
    "\n",
    "    f3_precip_full.to_netcdf(dataloc + 'HydroTas.f3_precip_full.nc')\n",
    "else:\n",
    "    f3_precip_full = xr.open_dataset(dataloc + 'HydroTas.f3_precip_full.nc')['f3']"
   ]
  },
  {
   "cell_type": "markdown",
   "metadata": {},
   "source": [
    "##### mask Australia"
   ]
  },
  {
   "cell_type": "code",
   "execution_count": 77,
   "metadata": {},
   "outputs": [],
   "source": [
    "mask = regionmask.defined_regions.natural_earth.countries_110.mask(f3_precip_full, wrap_lon=True)\n",
    "f3_precip_Aus_full = f3_precip_full.where(mask == regionmask.defined_regions.natural_earth.countries_110.map_keys('AU'), drop=True)"
   ]
  },
  {
   "cell_type": "markdown",
   "metadata": {},
   "source": [
    "##### compute anomalies"
   ]
  },
  {
   "cell_type": "code",
   "execution_count": 78,
   "metadata": {},
   "outputs": [],
   "source": [
    "if compute_data:\n",
    "    jra_clim_interp = jra_clim.interp(lat=f3_precip_Aus_full.lat, lon=f3_precip_Aus_full.lon)\n",
    "    f3_precip_Aus_c0 = f3_precip_Aus_full.groupby('init_date').apply(lambda_anomalize, clim=jra_clim_interp).rename('f3_c0')\n",
    "    \n",
    "    f3_precip = f3_precip_Aus_c0.to_dataset()"
   ]
  },
  {
   "cell_type": "code",
   "execution_count": 79,
   "metadata": {},
   "outputs": [],
   "source": [
    "if compute_data:\n",
    "    clim_period = slice('2002','2015')\n",
    "    f3_precip_Aus_full_use = f3_precip_Aus_full.sel(init_date=clim_period).mean('ensemble')\n",
    "    f3_precip_Aus_c1 = f3_precip_Aus_full.groupby('init_date').apply(cv_anomalize, clim_ts=f3_precip_Aus_full_use, leave_out_years=3).rename('f3_c1')\n",
    "    \n",
    "    f3_precip['f3_c1'] = f3_precip_Aus_c1"
   ]
  },
  {
   "cell_type": "code",
   "execution_count": 80,
   "metadata": {},
   "outputs": [],
   "source": [
    "if compute_data:\n",
    "    f3_precip.to_netcdf(dataloc + 'HydroTas.f3_precip_Aus.nc')\n",
    "else:\n",
    "    f3_precip = xr.open_dataset(dataloc + 'HydroTas.f3_precip_Aus.nc')"
   ]
  },
  {
   "cell_type": "markdown",
   "metadata": {},
   "source": [
    "### Raw CAFE f1 forecast data"
   ]
  },
  {
   "cell_type": "markdown",
   "metadata": {},
   "source": [
    "#### SST"
   ]
  },
  {
   "cell_type": "code",
   "execution_count": 83,
   "metadata": {},
   "outputs": [],
   "source": [
    "if compute_data:\n",
    "    fcst_filepath = '/OSM/CBR/OA_DCFP/data1/model_output/CAFE/forecasts/f1'\n",
    "    fcst_filename = 'ocean_month*.nc'\n",
    "\n",
    "    init_dates = pd.date_range('2002-02','2015-12' , freq='1MS')\n",
    "    ensembles = range(1, 12) \n",
    "\n",
    "    # Generate list of paths and coordinates to create -----\n",
    "    paths = [({'init_date' : i, 'ensemble' : e}, sorted(glob.glob(fcst_filepath + '/yr' + str(i.year) + \n",
    "                                                                             '/mn' + str(i.month) + \n",
    "                                                                             '/OUTPUT.' + str(e) + '/' + fcst_filename)))\n",
    "             for i,e in itertools.product(init_dates, ensembles)]\n",
    "    \n",
    "    f1_sst_raw = doppyo.sugar.load_and_concat(paths, variable='temp', convert_time_to_lead=True, clip_time_at=2*12, **{'decode_coords':False}) \\\n",
    "                             .isel(st_ocean=0, drop=True).rename('f1')\n",
    "    # Adjust lead time units attribute to be correct -----\n",
    "    f1_sst_raw.lead_time.attrs['units'] = 'MS'"
   ]
  },
  {
   "cell_type": "markdown",
   "metadata": {},
   "source": [
    "##### Compute nino3.4"
   ]
  },
  {
   "cell_type": "code",
   "execution_count": 84,
   "metadata": {},
   "outputs": [],
   "source": [
    "if compute_data:\n",
    "    f1_nino4_full = doppyo.diagnostic.nino4(f1_sst_raw).rename('f1').compute()\n",
    "\n",
    "    f1_nino4_full.to_netcdf(dataloc + 'HydroTas.f1_nino4_full.nc')\n",
    "else:\n",
    "    f1_nino4_full = xr.open_dataset(dataloc + 'HydroTas.f1_nino4_full.nc')['f1']"
   ]
  },
  {
   "cell_type": "markdown",
   "metadata": {},
   "source": [
    "##### compute anomalies"
   ]
  },
  {
   "cell_type": "code",
   "execution_count": 85,
   "metadata": {},
   "outputs": [],
   "source": [
    "if compute_data:\n",
    "    f1_nino4_c0 = f1_nino4_full.groupby('init_date').apply(lambda_anomalize, clim=had_clim).rename('f1_c0')\n",
    "    \n",
    "    f1_nino4 = f1_nino4_c0.to_dataset()"
   ]
  },
  {
   "cell_type": "code",
   "execution_count": 86,
   "metadata": {},
   "outputs": [],
   "source": [
    "if compute_data:\n",
    "    clim_period = slice('2002','2015')\n",
    "    f1_nino4_full_use = f1_nino4_full.sel(init_date=clim_period).mean('ensemble')\n",
    "    f1_nino4_c1 = f1_nino4_full.groupby('init_date').apply(cv_anomalize, clim_ts=f1_nino4_full_use, leave_out_years=3).rename('f1_c1')\n",
    "    \n",
    "    f1_nino4['f1_c1'] = f1_nino4_c1"
   ]
  },
  {
   "cell_type": "code",
   "execution_count": 87,
   "metadata": {},
   "outputs": [],
   "source": [
    "if compute_data:\n",
    "    f1_nino4.to_netcdf(dataloc + 'HydroTas.f1_nino4.nc')\n",
    "else:\n",
    "    f1_nino4 = xr.open_dataset(dataloc + 'HydroTas.f1_nino4.nc')"
   ]
  },
  {
   "cell_type": "markdown",
   "metadata": {},
   "source": [
    "#### Precipitation"
   ]
  },
  {
   "cell_type": "code",
   "execution_count": 88,
   "metadata": {},
   "outputs": [],
   "source": [
    "if compute_data:\n",
    "    fcst_filepath = '/OSM/CBR/OA_DCFP/data1/model_output/CAFE/forecasts/f1'\n",
    "    fcst_filename = 'atmos_daily*.plevel.nc'\n",
    "\n",
    "    init_dates = pd.date_range('2002-02','2015-12' , freq='1MS')\n",
    "    ensembles = range(1, 12) \n",
    "\n",
    "    # Generate list of paths and coordinates to create -----\n",
    "    paths = [({'init_date' : i, 'ensemble' : e}, sorted(glob.glob(fcst_filepath + '/yr' + str(i.year) + \n",
    "                                                                             '/mn' + str(i.month) + \n",
    "                                                                             '/OUTPUT.' + str(e) + '/' + fcst_filename)))\n",
    "             for i,e in itertools.product(init_dates, ensembles)]\n",
    "    \n",
    "    f1_precip_raw = doppyo.sugar.load_and_concat(paths, variables='precip', resample_time_like=['MS','sum'], convert_time_to_lead=True, \n",
    "                                                 clip_time_at=24, **{'decode_coords':False, 'use_cftime':True}).rename('f1') * 60 * 60 * 24 / 998.2 * 1000"
   ]
  },
  {
   "cell_type": "code",
   "execution_count": 89,
   "metadata": {},
   "outputs": [],
   "source": [
    "if compute_data:\n",
    "    f1_precip_full = f1_precip_raw.compute()\n",
    "\n",
    "    f1_precip_full.to_netcdf(dataloc + 'HydroTas.f1_precip_full.nc')\n",
    "else:\n",
    "    f1_precip_full = xr.open_dataset(dataloc + 'HydroTas.f1_precip_full.nc')['f1']"
   ]
  },
  {
   "cell_type": "markdown",
   "metadata": {},
   "source": [
    "##### mask Australia"
   ]
  },
  {
   "cell_type": "code",
   "execution_count": 90,
   "metadata": {},
   "outputs": [],
   "source": [
    "mask = regionmask.defined_regions.natural_earth.countries_110.mask(f1_precip_full, wrap_lon=True)\n",
    "f1_precip_Aus_full = f1_precip_full.where(mask == regionmask.defined_regions.natural_earth.countries_110.map_keys('AU'), drop=True)"
   ]
  },
  {
   "cell_type": "markdown",
   "metadata": {},
   "source": [
    "##### compute anomalies"
   ]
  },
  {
   "cell_type": "code",
   "execution_count": 91,
   "metadata": {},
   "outputs": [],
   "source": [
    "if compute_data:\n",
    "    jra_clim_interp = jra_clim.interp(lat=f1_precip_Aus_full.lat, lon=f1_precip_Aus_full.lon)\n",
    "    f1_precip_Aus_c0 = f1_precip_Aus_full.groupby('init_date').apply(lambda_anomalize, clim=jra_clim_interp).rename('f1_c0')\n",
    "    \n",
    "    f1_precip = f1_precip_Aus_c0.to_dataset()"
   ]
  },
  {
   "cell_type": "code",
   "execution_count": 92,
   "metadata": {},
   "outputs": [],
   "source": [
    "if compute_data:\n",
    "    clim_period = slice('2002','2015')\n",
    "    f1_precip_Aus_full_use = f1_precip_Aus_full.sel(init_date=clim_period).mean('ensemble')\n",
    "    f1_precip_Aus_c1 = f1_precip_Aus_full.groupby('init_date').apply(cv_anomalize, clim_ts=f1_precip_Aus_full_use, leave_out_years=3).rename('f1_c1')\n",
    "    \n",
    "    f1_precip['f1_c1'] = f1_precip_Aus_c1"
   ]
  },
  {
   "cell_type": "code",
   "execution_count": 93,
   "metadata": {},
   "outputs": [],
   "source": [
    "if compute_data:\n",
    "    f1_precip.to_netcdf(dataloc + 'HydroTas.f1_precip_Aus.nc')\n",
    "else:\n",
    "    f1_precip = xr.open_dataset(dataloc + 'HydroTas.f1_precip_Aus.nc')"
   ]
  },
  {
   "cell_type": "markdown",
   "metadata": {},
   "source": [
    "# Make sure that we are using the same number of members for each model"
   ]
  },
  {
   "cell_type": "code",
   "execution_count": 94,
   "metadata": {},
   "outputs": [],
   "source": [
    "n_members = 10\n",
    "cola_nino4 = cola_nino4.sel(ensemble = np.arange(1,n_members+1))\n",
    "aer04_nino4 = aer04_nino4.sel(ensemble = np.arange(1,n_members+1))\n",
    "florA_nino4 = florA_nino4.sel(ensemble = np.arange(1,n_members+1))\n",
    "florB_nino4 = florB_nino4.sel(ensemble = np.arange(1,n_members+1))\n",
    "cm3_nino4 = cm3_nino4.sel(ensemble = np.arange(1,n_members+1))\n",
    "cm4_nino4 = cm4_nino4.sel(ensemble = np.arange(1,n_members+1))\n",
    "f3_nino4 = f3_nino4.sel(ensemble = np.arange(1,n_members+1))\n",
    "f1_nino4 = f1_nino4.sel(ensemble = np.arange(1,n_members+1))\n",
    "\n",
    "f3_precip = f3_precip.sel(ensemble = np.arange(1,n_members+1))\n",
    "f1_precip = f1_precip.sel(ensemble = np.arange(1,n_members+1))"
   ]
  },
  {
   "cell_type": "markdown",
   "metadata": {},
   "source": [
    "# What is the skill of f3 relative to f1?"
   ]
  },
  {
   "cell_type": "code",
   "execution_count": 132,
   "metadata": {},
   "outputs": [
    {
     "name": "stderr",
     "output_type": "stream",
     "text": [
      "/flush4/squ027/miniconda3/envs/pangeo/lib/python3.6/site-packages/xarray/core/nanops.py:159: RuntimeWarning: Mean of empty slice\n",
      "  return np.nanmean(a, axis=axis, dtype=dtype)\n",
      "The PostScript backend does not support transparency; partially transparent artists will be rendered opaque.\n",
      "The PostScript backend does not support transparency; partially transparent artists will be rendered opaque.\n",
      "The PostScript backend does not support transparency; partially transparent artists will be rendered opaque.\n",
      "The PostScript backend does not support transparency; partially transparent artists will be rendered opaque.\n"
     ]
    },
    {
     "data": {
      "image/png": "[encoded data removed]",
      "text/plain": [
       "<Figure size 720x288 with 1 Axes>"
      ]
     },
     "metadata": {
      "needs_background": "light"
     },
     "output_type": "display_data"
    }
   ],
   "source": [
    "linewidth = 2\n",
    "fontsize = 11\n",
    "grey = 'w' #[0.9,0.9,0.9]\n",
    "\n",
    "matplotlib.rc('font', family='sans-serif') \n",
    "matplotlib.rc('font', serif='Helvetica') \n",
    "matplotlib.rc('text', usetex='false') \n",
    "matplotlib.rcParams.update({'font.size': fontsize})\n",
    "\n",
    "fig = plt.figure(figsize=(10,4))\n",
    "axes_locs = [[0,0.5,0.6,0.8]] #,[0.5,0.5,0.44,0.8]] #,[1.02,0.5,0.29,0.8]]\n",
    "axes=[]\n",
    "for axes_loc in axes_locs:\n",
    "    axes.append(fig.add_axes(axes_loc))\n",
    "\n",
    "# Nino-4 ==============================================================\n",
    "anom = 'c1'\n",
    "ref = f3_nino4['f3_' + anom]\n",
    "obs = had_nino4['had_' + anom]\n",
    "model = f1_nino4['f1_' + anom]\n",
    "model_name = 'f1'\n",
    "\n",
    "ax = axes[0]\n",
    "sign_test = doppyo.skill.sign_test(ref.mean('ensemble'), \n",
    "                                   model.mean('ensemble'), \n",
    "                                   obs.sel(init_date=slice('1999','2015')))\n",
    "\n",
    "sign_masked = sign_test[0].fillna(0)\n",
    "conf_masked = sign_test[1].fillna(0)\n",
    "norm = ((1 + 0*sign_masked).sum('init_date') ** 2 + (1 + 0*sign_masked).sum('init_date')) / 2\n",
    "sign_area = doppyo.utils.integrate(sign_masked, over_dim='init_date', \n",
    "                                   x=(1+0*sign_masked.init_date.astype(int)).cumsum('init_date'), method='rect') / norm\n",
    "conf_area = doppyo.utils.integrate(conf_masked, over_dim='init_date', \n",
    "                                   x=(1+0*conf_masked.init_date.astype(int)).cumsum('init_date'), method='rect') / norm\n",
    "\n",
    "ax.fill_between(conf_area.lead_time,\n",
    "                    -1 * conf_area, conf_area, color=grey, label='_nolegend_')\n",
    "ax.plot(sign_area.lead_time, -sign_area, label=model_name)\n",
    "\n",
    "# Shade regions ------\n",
    "ax.set_ylim(-1,1)\n",
    "ymin, ymax = ax.get_ylim()\n",
    "xmin, xmax = ax.get_xlim()\n",
    "ax.fill_between((xmin, xmax), (0, 0), (ymax, ymax), \n",
    "                 facecolor=upper_color, linewidth=0.0, zorder=0)\n",
    "ax.fill_between((xmin, xmax), (ymin, ymin), (0, 0), \n",
    "                 facecolor=lower_color, linewidth=0.0, zorder=0)\n",
    "\n",
    "ax.set_xlim(1,23)\n",
    "ax.set_xticks(np.arange(2,24,2))\n",
    "\n",
    "ax.text(1.3,0.88,'f3 less skillful than f1', fontsize=fontsize)\n",
    "ax.text(1.3,-0.95,'f3 more skillful than f1', fontsize=fontsize);\n",
    "\n",
    "# Precip ==============================================================\n",
    "anom = 'c1'\n",
    "ref = f3_precip['f3_' + anom].mean(['lat','lon'])\n",
    "model = f1_precip['f1_' + anom].mean(['lat','lon'])\n",
    "obs = jra_precip['jra_' + anom].interp(lat=f3_precip.lat, lon=f3_precip.lon).mean(['lat','lon'])\n",
    "model_name = 'f1'\n",
    "\n",
    "sign_test = doppyo.skill.sign_test(ref.mean('ensemble'), \n",
    "                                   model.mean('ensemble'), \n",
    "                                   obs.sel(init_date=slice('1999','2015')))\n",
    "\n",
    "sign_masked = sign_test[0].fillna(0)\n",
    "conf_masked = sign_test[1].fillna(0)\n",
    "norm = ((1 + 0*sign_masked).sum('init_date') ** 2 + (1 + 0*sign_masked).sum('init_date')) / 2\n",
    "sign_area = doppyo.utils.integrate(sign_masked, over_dim='init_date', \n",
    "                                   x=(1+0*sign_masked.init_date.astype(int)).cumsum('init_date'), method='rect') / norm\n",
    "conf_area = doppyo.utils.integrate(conf_masked, over_dim='init_date', \n",
    "                                   x=(1+0*conf_masked.init_date.astype(int)).cumsum('init_date'), method='rect') / norm\n",
    "\n",
    "ax.fill_between(conf_area.lead_time,\n",
    "                    -1 * conf_area, conf_area, color=grey, label='_nolegend_')\n",
    "ax.plot(sign_area.lead_time, -sign_area, label=model_name)\n",
    "\n",
    "# Shade regions ------\n",
    "ax.set_ylim(-1,1)\n",
    "ymin, ymax = ax.get_ylim()\n",
    "xmin, xmax = ax.get_xlim()\n",
    "ax.fill_between((xmin, xmax), (0, 0), (ymax, ymax), \n",
    "                 facecolor=upper_color, linewidth=0.0, zorder=0)\n",
    "ax.fill_between((xmin, xmax), (ymin, ymin), (0, 0), \n",
    "                 facecolor=lower_color, linewidth=0.0, zorder=0)\n",
    "\n",
    "ax.set_ylabel('Net RWSS')\n",
    "ax.set_xlim(1,23)\n",
    "ax.set_xticks(np.arange(2,24,2))\n",
    "ax.set_xlabel('Lead [months]');\n",
    "ax.legend(['Nino-4 index','AUS-avg monthly precip']);\n",
    "\n",
    "plt.savefig(saveloc + 'nRWSS_f3vf1_Nino4_precip.eps', format='eps', bbox_inches='tight')\n",
    "# plt.savefig(saveloc + 'nino4_randomwalk_f3vf1_allseasons.png', format='png', bbox_inches='tight')"
   ]
  },
  {
   "cell_type": "code",
   "execution_count": null,
   "metadata": {},
   "outputs": [],
   "source": []
  }
 ],
 "metadata": {
  "kernelspec": {
   "display_name": "Python 3",
   "language": "python",
   "name": "python3"
  },
  "language_info": {
   "codemirror_mode": {
    "name": "ipython",
    "version": 3
   },
   "file_extension": ".py",
   "mimetype": "text/x-python",
   "name": "python",
   "nbconvert_exporter": "python",
   "pygments_lexer": "ipython3",
   "version": "3.6.7"
  }
 },
 "nbformat": 4,
 "nbformat_minor": 4
}
