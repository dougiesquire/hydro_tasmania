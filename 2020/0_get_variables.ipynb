{
 "cells": [
  {
   "cell_type": "markdown",
   "metadata": {},
   "source": [
    "# Prep variables for HydroTas 2020-2021 workplan:\n",
    "- Skill assessment\n",
    "  - rainfall, surface temp and surface wind over Australia region and Tasmania region\n",
    "  - Assess skill as function of start month and ensemble size\n",
    "- UNSEEN\n",
    "  - Tasmanian rainfall and Melbourne surface temperature"
   ]
  },
  {
   "cell_type": "code",
   "execution_count": null,
   "metadata": {},
   "outputs": [],
   "source": [
    "import glob\n",
    "import cftime\n",
    "import geopandas\n",
    "import numpy as np\n",
    "import xarray as xr\n",
    "from dask.distributed import Client\n",
    "from dask_jobqueue import PBSCluster"
   ]
  },
  {
   "cell_type": "code",
   "execution_count": null,
   "metadata": {},
   "outputs": [],
   "source": [
    "walltime = '02:00:00'\n",
    "cores = 12\n",
    "memory = '24GB'\n",
    "\n",
    "cluster = PBSCluster(processes=1,\n",
    "                     walltime=str(walltime), cores=cores, memory=str(memory),\n",
    "                     job_extra=['-l ncpus='+str(cores),\n",
    "                                '-l mem='+str(memory),\n",
    "                                '-P ux06',\n",
    "                                '-l jobfs=100GB',\n",
    "                                '-l storage=gdata/xv83+gdata/v14+scratch/v14'],\n",
    "                     local_directory='$PBS_JOBFS',\n",
    "                     header_skip=[\"select\"])"
   ]
  },
  {
   "cell_type": "code",
   "execution_count": null,
   "metadata": {},
   "outputs": [],
   "source": [
    "cluster.scale(jobs=4)\n",
    "client = Client(cluster)\n",
    "client"
   ]
  },
  {
   "cell_type": "markdown",
   "metadata": {},
   "source": [
    "# Create Australia land mask on CAFE grid"
   ]
  },
  {
   "cell_type": "code",
   "execution_count": null,
   "metadata": {},
   "outputs": [],
   "source": [
    "NRM = geopandas.read_file('data/NRM_clusters/NRM_clusters.shp')\n",
    "NRM_regions = {number: name for number, name in zip(list(NRM.OBJECTID), list(NRM.label))}\n",
    "NRM_mask = regionmask.Regions_cls(name='NRM_regions', \n",
    "                                  numbers=list(NRM.OBJECTID), \n",
    "                                  names=list(NRM.label), \n",
    "                                  abbrevs=list(NRM.code), \n",
    "                                  outlines=list(NRM.geometry))\n",
    "NRM_mask = NRM_mask.mask(da, lon_name=doppyo.utils.get_lon_name(da), \n",
    "                         lat_name=doppyo.utils.get_lat_name(da))\n",
    "\n",
    "NRM_sub = geopandas.read_file(\"NRM_sub_clusters/NRM_sub_clusters.shp\")\n",
    "NRM_sub_regions = {number: name for number, name in zip(list(NRM_sub.OBJECTID), list(NRM_sub.label))}\n",
    "NRM_sub_mask = regionmask.Regions_cls(name='NRM_sub_regions', \n",
    "                                      numbers=list(NRM_sub.index), \n",
    "                                      names=list(NRM_sub.label), \n",
    "                                      abbrevs=list(NRM_sub.code), \n",
    "                                      outlines=list(NRM_sub.geometry))\n",
    "NRM_sub_mask = NRM_sub_mask.mask(da, lon_name=doppyo.utils.get_lon_name(da), \n",
    "                                 lat_name=doppyo.utils.get_lat_name(da))\n",
    "\n",
    "region_masks = {'South-East Australia NRM region': xr.where((NRM_mask == 4) | (NRM_mask == 7), 1, np.nan),\n",
    "                'Australia NRM region':            xr.where(NRM_mask.notnull(), 1, np.nan),"
   ]
  },
  {
   "cell_type": "markdown",
   "metadata": {},
   "source": [
    "# Global parameters"
   ]
  },
  {
   "cell_type": "code",
   "execution_count": null,
   "metadata": {},
   "outputs": [],
   "source": [
    "'Melbourne grid box': point_mask(da, (144.96, -37.81))\n",
    "'Tasmania grid box':  point_mask(da, (146.5,  -42))\n",
    "'Australia NRM region':            xr.where(NRM_mask.notnull(), 1, np.nan)"
   ]
  },
  {
   "cell_type": "code",
   "execution_count": null,
   "metadata": {},
   "outputs": [],
   "source": [
    "REGIONS = {'AUS': [-44, -10, 112, 155],\n",
    "           'TAS': [],\n",
    "           'MEL': []}"
   ]
  }
 ],
 "metadata": {
  "kernelspec": {
   "display_name": "Python 3",
   "language": "python",
   "name": "python3"
  },
  "language_info": {
   "codemirror_mode": {
    "name": "ipython",
    "version": 3
   },
   "file_extension": ".py",
   "mimetype": "text/x-python",
   "name": "python",
   "nbconvert_exporter": "python",
   "pygments_lexer": "ipython3",
   "version": "3.8.5"
  }
 },
 "nbformat": 4,
 "nbformat_minor": 4
}
