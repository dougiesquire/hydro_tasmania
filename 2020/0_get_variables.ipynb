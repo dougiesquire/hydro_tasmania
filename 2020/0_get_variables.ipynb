{
 "cells": [
  {
   "cell_type": "markdown",
   "metadata": {},
   "source": [
    "# Prep variables for HydroTas 2020-2021 workplan:\n",
    "- Skill assessment\n",
    "  - rainfall, surface temp and surface wind over Australia region and Tasmania region\n",
    "  - Assess skill as function of start month and ensemble size\n",
    "- UNSEEN\n",
    "  - Tasmanian rainfall and Melbourne surface temperature"
   ]
  },
  {
   "cell_type": "code",
   "execution_count": 1,
   "metadata": {},
   "outputs": [],
   "source": [
    "import glob\n",
    "import cftime\n",
    "import geopandas\n",
    "import regionmask\n",
    "import numpy as np\n",
    "import xarray as xr\n",
    "from dask.distributed import Client\n",
    "from dask_jobqueue import PBSCluster"
   ]
  },
  {
   "cell_type": "code",
   "execution_count": null,
   "metadata": {},
   "outputs": [],
   "source": [
    "walltime = '02:00:00'\n",
    "cores = 12\n",
    "memory = '24GB'\n",
    "\n",
    "cluster = PBSCluster(processes=1,\n",
    "                     walltime=str(walltime), cores=cores, memory=str(memory),\n",
    "                     job_extra=['-l ncpus='+str(cores),\n",
    "                                '-l mem='+str(memory),\n",
    "                                '-P ux06',\n",
    "                                '-l jobfs=100GB',\n",
    "                                '-l storage=gdata/xv83+gdata/v14+scratch/v14'],\n",
    "                     local_directory='$PBS_JOBFS',\n",
    "                     header_skip=[\"select\"])"
   ]
  },
  {
   "cell_type": "code",
   "execution_count": null,
   "metadata": {},
   "outputs": [],
   "source": [
    "cluster.scale(jobs=4)\n",
    "client = Client(cluster)\n",
    "client"
   ]
  },
  {
   "cell_type": "markdown",
   "metadata": {},
   "source": [
    "# Create Australia land mask on CAFE grid"
   ]
  },
  {
   "cell_type": "code",
   "execution_count": 19,
   "metadata": {},
   "outputs": [],
   "source": [
    "CAFE_grid = xr.open_dataset('data/cafe_atmos_grid_info.nc')['zsurf']\n",
    "\n",
    "NRM = geopandas.read_file('data/NRM_clusters/NRM_clusters.shp')\n",
    "regions = regionmask.Regions_cls(\n",
    "    name='NRM_regions', \n",
    "    numbers=list(NRM.index), \n",
    "    names=list(NRM.label), \n",
    "    abbrevs=list(NRM.code),\n",
    "    outlines=list(NRM.geometry))\n",
    "regions_mask = regions.mask(CAFE_grid, lon_name='lon', lat_name='lat')\n",
    "\n",
    "Australia_mask = xr.where(regions_mask.notnull(), True, False)"
   ]
  },
  {
   "cell_type": "markdown",
   "metadata": {},
   "source": [
    "# Global parameters"
   ]
  },
  {
   "cell_type": "code",
   "execution_count": 40,
   "metadata": {},
   "outputs": [],
   "source": [
    "REGIONS = {'AUS': Australia_mask,\n",
    "           'TAS': (-42, 146.5),\n",
    "           'MEL': (-37.81, 144.96)}"
   ]
  },
  {
   "cell_type": "code",
   "execution_count": 41,
   "metadata": {},
   "outputs": [],
   "source": [
    "def get_region(ds, region, wrap_lons=True, lat_name='lat', lon_name='lon'):\n",
    "    \"\"\" Return a region from a provided DataArray or Dataset\n",
    "        \n",
    "        Parameters\n",
    "        ----------\n",
    "        region: xarray DataArray or list\n",
    "            The region to extract. Can be provided in three formats:\n",
    "              - if DataArray, a mask with True for points to include and False elsewhere\n",
    "              - if list of length 4, a region specified by latitudinal and longitudinal \n",
    "                bounds as follows [lat_min, lat_max, lon_min, lon_max]\n",
    "              - if list of length 2, a point location as follows [lat, lon]. The nearest \n",
    "                grid cell is returned in this case\n",
    "        wrap_lons : boolean, optional\n",
    "            Wrap longitude values of da into the range between 0 and 360\n",
    "    \"\"\"\n",
    "    if wrap_lons:\n",
    "        ds = ds.assign_coords({lon_name: (ds[lon_name] + 360)  % 360})\n",
    "        ds = ds.sortby(lat_name).sortby(lon_name)\n",
    "        \n",
    "    if isinstance(region, xr.DataArray):\n",
    "        return ds.where(region, drop=True)\n",
    "    elif isinstance(region, (tuple, list)):\n",
    "        if len(region) == 2:\n",
    "            return ds.sel({lat_name: region[0], \n",
    "                           lon_name: region[1]},\n",
    "                          method='nearest')\n",
    "        elif len(region) == 4:\n",
    "            return ds.sel({lat_name: slice(region[0], region[1]),\n",
    "                           lon_name: slice(region[2], region[3])})\n",
    "    else:\n",
    "        raise InputError('Unrecognised format for input region')"
   ]
  },
  {
   "cell_type": "code",
   "execution_count": 52,
   "metadata": {},
   "outputs": [
    {
     "data": {
      "text/plain": [
       "[<matplotlib.lines.Line2D at 0x146bdfbcbb80>]"
      ]
     },
     "execution_count": 52,
     "metadata": {},
     "output_type": "execute_result"
    },
    {
     "data": {
      "image/png": "[encoded data removed]",
      "text/plain": [
       "<Figure size 432x288 with 2 Axes>"
      ]
     },
     "metadata": {
      "needs_background": "light"
     },
     "output_type": "display_data"
    }
   ],
   "source": [
    "import matplotlib.pyplot as plt\n",
    "get_region(Australia_mask, Australia_mask).plot()\n",
    "plt.plot(146.5, -42, '+', color='k', markersize=20)\n",
    "plt.plot(144.96, -37.81, '+', color='k', markersize=20)"
   ]
  },
  {
   "cell_type": "code",
   "execution_count": null,
   "metadata": {},
   "outputs": [],
   "source": []
  }
 ],
 "metadata": {
  "kernelspec": {
   "display_name": "Python 3",
   "language": "python",
   "name": "python3"
  },
  "language_info": {
   "codemirror_mode": {
    "name": "ipython",
    "version": 3
   },
   "file_extension": ".py",
   "mimetype": "text/x-python",
   "name": "python",
   "nbconvert_exporter": "python",
   "pygments_lexer": "ipython3",
   "version": "3.8.6"
  }
 },
 "nbformat": 4,
 "nbformat_minor": 4
}
