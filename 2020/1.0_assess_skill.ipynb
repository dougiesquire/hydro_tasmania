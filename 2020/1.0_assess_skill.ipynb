{
 "cells": [
  {
   "cell_type": "markdown",
   "metadata": {},
   "source": [
    "# Simple skill assessment for HydroTas 2020-2021 workplan:\n",
    "- rainfall, surface temp and surface wind over Australia region and Tasmania region\n",
    "- Assess skill as function of start month and ensemble size"
   ]
  },
  {
   "cell_type": "code",
   "execution_count": 1,
   "metadata": {},
   "outputs": [],
   "source": [
    "import sys\n",
    "sys.path.insert(0, '/OSM/CBR/OA_DCFP/work/squ027/software/xskillscore')\n",
    "\n",
    "import cmocean\n",
    "import matplotlib\n",
    "import numpy as np\n",
    "import xarray as xr\n",
    "import myfuncs as my\n",
    "import xskillscore as xs\n",
    "from matplotlib import cm\n",
    "import matplotlib.pyplot as plt\n",
    "\n",
    "import warnings\n",
    "warnings.filterwarnings(\"ignore\")"
   ]
  },
  {
   "cell_type": "markdown",
   "metadata": {},
   "source": [
    "# Parameters"
   ]
  },
  {
   "cell_type": "code",
   "execution_count": 139,
   "metadata": {},
   "outputs": [],
   "source": [
    "CLIM_PERIOD = slice('1990-01-01', '2019-12-31') # For defining climatological probabilities\n",
    "TEST_PERIOD = slice('1990-01-01', '2019-12-31')\n",
    "ROLLING_LEAD_AVERAGES = [3, 6, 12, 24, 36, 60]\n",
    "REGIONS = ['AUS', 'MEL', 'TAS']\n",
    "CMAP = matplotlib.colors.ListedColormap(\n",
    "    cm.get_cmap(cmocean.cm.curl_r)(np.linspace(0, 1, 21)))\n",
    "\n",
    "PARAMS = {'precip': \n",
    "             {'obsv_file': 'data/awap_precip_{region}.zarr',\n",
    "              'fcst_file': 'data/f6_precip_{region}.zarr'},\n",
    "          't_ref':\n",
    "             {'obsv_file': 'data/jra55_t_ref_{region}.zarr',\n",
    "              'fcst_file': 'data/f6_t_ref_{region}.zarr'},\n",
    "          'V_ref':\n",
    "             {'obsv_file': 'data/jra55_V_ref_{region}.zarr',\n",
    "              'fcst_file': 'data/f6_V_ref_{region}.zarr'}}"
   ]
  },
  {
   "cell_type": "markdown",
   "metadata": {},
   "source": [
    "# Perform skill assessment using MSSS and CRPSS"
   ]
  },
  {
   "cell_type": "code",
   "execution_count": 140,
   "metadata": {},
   "outputs": [],
   "source": [
    "def get_climatological_probabilities(obsv, period):\n",
    "    def _init_date_to_ensemble(ds):\n",
    "        \"\"\" Collapse all available init_dates at a given lead into a new ensemble dimension\"\"\"\n",
    "        ds_drop = ds.copy().dropna('init_date', how='all')\n",
    "        ds_drop = ds_drop.rename({'init_date': 'ensemble'})\n",
    "        return ds_drop.assign_coords({'ensemble': range(len(ds_drop['ensemble']))})\n",
    "    obsv_period = my.mask_time_period(obsv, period=period)\n",
    "    obsv_ensemble = obsv_period.groupby('lead_time').map(_init_date_to_ensemble)\n",
    "    clim_prob = obsv_ensemble.broadcast_like(obsv)\n",
    "    return clim_prob.assign_coords({'time': obsv['time']})"
   ]
  },
  {
   "cell_type": "code",
   "execution_count": 141,
   "metadata": {},
   "outputs": [],
   "source": [
    "def get_rolling_leadtime_averages(ds, list_of_months_to_average):\n",
    "    \"\"\" Return rolling averages along lead time stacked along new dimension\"\"\"\n",
    "    def _rolling_leadtime_average(ds, n_points, lead_time_name='lead_time'):\n",
    "        return ds.rolling({lead_time_name: n_points}, center=True).mean()\n",
    "    dst_dict = {'1 month': ds}\n",
    "    for avg in list_of_months_to_average:\n",
    "        dst_dict[str(avg)+' months'] = _rolling_leadtime_average(dst_dict['1 month'], \n",
    "                                                                 n_points=avg)\n",
    "    dst = xr.concat(dst_dict.values(), dim='time_scale')\n",
    "    dst = dst.assign_coords(time_scale=[int(time_scale.split(' ')[0]) \n",
    "                                        for time_scale in dst_dict.keys()])\n",
    "    dst = dst.assign_coords(time_scale_name=('time_scale', list(dst_dict.keys())))\n",
    "    return dst"
   ]
  },
  {
   "cell_type": "code",
   "execution_count": 196,
   "metadata": {},
   "outputs": [],
   "source": [
    "fcst = my.open_zarr('data/f5_precip_TAS_anom.zarr').compute()\n",
    "obsv = my.open_zarr('data/awap_precip_TAS_anom.zarr').compute()"
   ]
  },
  {
   "cell_type": "code",
   "execution_count": 200,
   "metadata": {},
   "outputs": [],
   "source": [
    "start_months = np.unique(fcst.init_date.dt.month)\n",
    "start_month = start_months[0]"
   ]
  },
  {
   "cell_type": "code",
   "execution_count": 201,
   "metadata": {},
   "outputs": [],
   "source": [
    "keep_mon = obsv.init_date.dt.month == start_month\n",
    "fcst_mon = get_rolling_leadtime_averages(\n",
    "    fcst.where(keep_mon, drop=True), \n",
    "    ROLLING_LEAD_AVERAGES)\n",
    "obsv_mon = get_rolling_leadtime_averages(\n",
    "    obsv.where(keep_mon, drop=True), \n",
    "    ROLLING_LEAD_AVERAGES)\n",
    "fcst_mon, obsv_mon = xr.align(fcst_mon, obsv_mon)"
   ]
  },
  {
   "cell_type": "code",
   "execution_count": 202,
   "metadata": {},
   "outputs": [],
   "source": [
    "clim_probs_mon = get_climatological_probabilities(obsv_mon, CLIM_PERIOD)\n",
    "clim_mean_mon = 0 * clim_probs_mon.mean('ensemble')"
   ]
  },
  {
   "cell_type": "code",
   "execution_count": 203,
   "metadata": {},
   "outputs": [],
   "source": [
    "acc = my.get_metric(\n",
    "    obsv_mon, fcst_mon.mean('ensemble'),\n",
    "    metric='pearson_r', \n",
    "    metric_kwargs={'dim': 'init_date',\n",
    "                   'skipna': True},\n",
    "    period=TEST_PERIOD)"
   ]
  },
  {
   "cell_type": "code",
   "execution_count": 204,
   "metadata": {},
   "outputs": [],
   "source": [
    "msss = my.get_skill_score(\n",
    "    obsv_mon, fcst_mon.mean('ensemble'), clim_mean_mon,\n",
    "    metric='mse', \n",
    "    metric_kwargs={'dim': 'init_date',\n",
    "                   'skipna': True},\n",
    "    period=TEST_PERIOD)"
   ]
  },
  {
   "cell_type": "code",
   "execution_count": 205,
   "metadata": {},
   "outputs": [],
   "source": [
    "crpss = my.get_skill_score(\n",
    "    obsv_mon, fcst_mon, clim_probs_mon,\n",
    "    metric='crps_ensemble', \n",
    "    metric_kwargs={'member_dim': 'ensemble',\n",
    "                   'dim': 'init_date'},\n",
    "    period=TEST_PERIOD)"
   ]
  },
  {
   "cell_type": "code",
   "execution_count": 206,
   "metadata": {},
   "outputs": [],
   "source": [
    "def jelly_plot(skill, stipple=None, stipple_type='//',\n",
    "               title=None, cmap=None, vlims=None, figsize=None):\n",
    "    \n",
    "    from mpl_toolkits.axes_grid1 import make_axes_locatable\n",
    "    import matplotlib.patches as mpatches\n",
    "    \n",
    "    def _stipple(stipple, stipple_type):\n",
    "        if '/' in stipple_type:\n",
    "            for j, i in np.column_stack(\n",
    "                np.where(stipple)):\n",
    "                ax.add_patch(\n",
    "                    mpatches.Rectangle((i, j-0.5), 1, 1,    \n",
    "                                       fill=False, linewidth=0,\n",
    "                                       snap=False, hatch=stipple_type))\n",
    "        else:\n",
    "            xOrg = range(len(stipple[stipple.dims[1]]))\n",
    "            yOrg = range(len(stipple[stipple.dims[0]]))\n",
    "            nx = len(xOrg)\n",
    "            ny = len(yOrg)\n",
    "            xData = np.reshape( np.tile(xOrg, ny), stipple.shape )\n",
    "            yData = np.reshape( np.repeat(yOrg, nx), stipple.shape )\n",
    "            sigPoints = stipple > 0\n",
    "            xPoints = xData[sigPoints.values]\n",
    "            yPoints = yData[sigPoints.values]\n",
    "            ax.scatter(xPoints+0.5, yPoints, s=5, c='k', marker=stipple_type, alpha=1)\n",
    "        \n",
    "    fig, ax = plt.subplots(figsize=figsize)\n",
    "    \n",
    "    if vlims is None:\n",
    "        vlims = [None, None]\n",
    "               \n",
    "    x = np.arange(len(skill.lead_time)+1)\n",
    "    y = np.arange(len(skill.time_scale)+1)-0.5\n",
    "    c = skill.transpose('time_scale','lead_time')\n",
    "    im = ax.pcolor(x, y, c,\n",
    "                    vmin=vlims[0],\n",
    "                    vmax=vlims[1],\n",
    "                    cmap=cmap)\n",
    "    \n",
    "    if stipple is not None:\n",
    "        _stipple(stipple.transpose('time_scale','lead_time'), stipple_type)\n",
    "    \n",
    "    # Plot annotations\n",
    "    for y, ts in enumerate(skill.time_scale.values):\n",
    "        if y != 0:\n",
    "            ends = 0.15\n",
    "            line_color = 'grey'\n",
    "            ax.plot([0.5, ts-0.5], [y, y], \n",
    "                    color=line_color, linewidth=1)\n",
    "            ax.plot([0.5, 0.5], [y-ends, y+ends], \n",
    "                    color=line_color, linewidth=1)\n",
    "            ax.plot([ts-0.5, ts-0.5], [y-ends, y+ends], \n",
    "                    color=line_color, linewidth=1)\n",
    "            ax.plot([int(ts/2)+0.5], y,\n",
    "                    marker='x', color=line_color, markersize=4, linewidth=1)\n",
    "    \n",
    "    # Add colorbar\n",
    "    divider = make_axes_locatable(ax)\n",
    "    cax = divider.append_axes('bottom', size='8%', pad=0.55)\n",
    "    fig.colorbar(im, cax=cax, orientation='horizontal')\n",
    "    \n",
    "    ax.set_yticks(range(len(skill.time_scale)))\n",
    "    ax.set_yticklabels(skill.time_scale_name.values)\n",
    "    ax.set_xlabel('Lead month')\n",
    "    ax.set_ylabel('Averaging period')\n",
    "    \n",
    "    if title:\n",
    "        ax.set_title(title)"
   ]
  },
  {
   "cell_type": "code",
   "execution_count": 195,
   "metadata": {},
   "outputs": [
    {
     "data": {
      "image/png": "[encoded data removed]",
      "text/plain": [
       "<Figure size 864x216 with 2 Axes>"
      ]
     },
     "metadata": {
      "needs_background": "light"
     },
     "output_type": "display_data"
    }
   ],
   "source": [
    "jelly_plot(crpss['precip'], None, stipple_type='//',\n",
    "           title='TEST',\n",
    "           cmap=CMAP, vlims=(-1,1), figsize=(12,3))"
   ]
  },
  {
   "cell_type": "code",
   "execution_count": null,
   "metadata": {},
   "outputs": [],
   "source": []
  },
  {
   "cell_type": "code",
   "execution_count": null,
   "metadata": {},
   "outputs": [],
   "source": []
  },
  {
   "cell_type": "code",
   "execution_count": 170,
   "metadata": {},
   "outputs": [
    {
     "data": {
      "image/png": "[encoded data removed]",
      "text/plain": [
       "<Figure size 432x288 with 1 Axes>"
      ]
     },
     "metadata": {
      "needs_background": "light"
     },
     "output_type": "display_data"
    }
   ],
   "source": [
    "import matplotlib.pyplot as plt\n",
    "\n",
    "lead = 30\n",
    "time_scale = 24 # month\n",
    "variable = 't_ref'\n",
    "\n",
    "std = my.mask_time_period(\n",
    "    fcst_mon.sel(time_scale=time_scale).std('ensemble')[variable].isel(lead_time=lead),\n",
    "    TEST_PERIOD)\n",
    "mean = my.mask_time_period(\n",
    "    fcst_mon.sel(time_scale=time_scale).mean('ensemble')[variable].isel(lead_time=lead),\n",
    "    TEST_PERIOD)\n",
    "plt.plot(mean.time, (mean - std), color='C0', linestyle='--')\n",
    "plt.plot(mean.time, (mean + std), color='C0', linestyle='--')\n",
    "plt.plot(mean.time, mean, color='C0', linewidth=2)\n",
    "\n",
    "ref = obsv_mon.sel(time_scale=time_scale)[variable].isel(lead_time=lead)\n",
    "plt.plot(ref.time, ref, color='k', linewidth=2)\n",
    "\n",
    "std = my.mask_time_period(\n",
    "    clim_probs_mon.sel(time_scale=time_scale).std('ensemble')[variable].isel(lead_time=lead),\n",
    "    TEST_PERIOD)\n",
    "mean = my.mask_time_period(\n",
    "    clim_probs_mon.sel(time_scale=time_scale).mean('ensemble')[variable].isel(lead_time=lead),\n",
    "    TEST_PERIOD)\n",
    "plt.plot(mean.time, (mean - std).where(ref.notnull()), color='C1', linestyle='--')\n",
    "plt.plot(mean.time, (mean + std).where(ref.notnull()), color='C1', linestyle='--')\n",
    "plt.plot(mean.time, mean.where(ref.notnull()), color='C1', linewidth=2)\n",
    "\n",
    "plt.xlabel('Time');"
   ]
  },
  {
   "cell_type": "code",
   "execution_count": null,
   "metadata": {},
   "outputs": [],
   "source": []
  }
 ],
 "metadata": {
  "kernelspec": {
   "display_name": "Python 3",
   "language": "python",
   "name": "python3"
  },
  "language_info": {
   "codemirror_mode": {
    "name": "ipython",
    "version": 3
   },
   "file_extension": ".py",
   "mimetype": "text/x-python",
   "name": "python",
   "nbconvert_exporter": "python",
   "pygments_lexer": "ipython3",
   "version": "3.8.5"
  }
 },
 "nbformat": 4,
 "nbformat_minor": 4
}
