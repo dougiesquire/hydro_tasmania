{
 "cells": [
  {
   "cell_type": "markdown",
   "metadata": {},
   "source": [
    "# Anomalise indices for HydroTas 2020-2021 workplan:\n",
    "- Skill assessment\n",
    "  - rainfall, surface temp and surface wind over Australia region and Tasmania region\n",
    "  - Assess skill as function of start month and ensemble size\n",
    "- UNSEEN\n",
    "  - Tasmanian rainfall and Melbourne surface temperature"
   ]
  },
  {
   "cell_type": "code",
   "execution_count": 1,
   "metadata": {},
   "outputs": [],
   "source": [
    "import glob\n",
    "import itertools\n",
    "import xarray as xr\n",
    "import myfuncs as my"
   ]
  },
  {
   "cell_type": "markdown",
   "metadata": {},
   "source": [
    "# Parameters"
   ]
  },
  {
   "cell_type": "code",
   "execution_count": 2,
   "metadata": {},
   "outputs": [],
   "source": [
    "CLIM_PERIOD = slice('1990-01-01', '2019-12-31')\n",
    "FILES = glob.glob('data/*[A-Z].zarr*')"
   ]
  },
  {
   "cell_type": "markdown",
   "metadata": {},
   "source": [
    "# Anomalise"
   ]
  },
  {
   "cell_type": "code",
   "execution_count": 14,
   "metadata": {},
   "outputs": [],
   "source": [
    "for file in FILES:\n",
    "    ds = my.open_zarr(file).compute()\n",
    "\n",
    "    ds_masked = my.mask_time_period(ds, CLIM_PERIOD)\n",
    "    if 'ensemble' in ds_masked.dims:\n",
    "        ds_masked = ds_masked.mean('ensemble')\n",
    "    clim = my.get_monthly_clim(ds_masked, 'init_date')\n",
    "    \n",
    "    anom = my.get_monthly_anom(ds, 'init_date', clim)\n",
    "\n",
    "    my.to_zarr(anom, file.replace('.zarr.zip', '_anom.zarr'))"
   ]
  },
  {
   "cell_type": "code",
   "execution_count": null,
   "metadata": {},
   "outputs": [],
   "source": []
  }
 ],
 "metadata": {
  "kernelspec": {
   "display_name": "Python 3",
   "language": "python",
   "name": "python3"
  },
  "language_info": {
   "codemirror_mode": {
    "name": "ipython",
    "version": 3
   },
   "file_extension": ".py",
   "mimetype": "text/x-python",
   "name": "python",
   "nbconvert_exporter": "python",
   "pygments_lexer": "ipython3",
   "version": "3.8.5"
  }
 },
 "nbformat": 4,
 "nbformat_minor": 4
}
