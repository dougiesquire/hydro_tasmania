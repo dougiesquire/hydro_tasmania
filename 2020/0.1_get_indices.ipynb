{
 "cells": [
  {
   "cell_type": "markdown",
   "metadata": {},
   "source": [
    "# Prep any indices for HydroTas 2020-2021 workplan:\n",
    "- Skill assessment\n",
    "  - rainfall, surface temp and surface wind over Australia region and Tasmania region\n",
    "  - Assess skill as function of start month and ensemble size\n",
    "- UNSEEN\n",
    "  - Tasmanian rainfall and Melbourne surface temperature"
   ]
  },
  {
   "cell_type": "code",
   "execution_count": 1,
   "metadata": {},
   "outputs": [],
   "source": [
    "import xarray as xr\n",
    "import myfuncs as my\n",
    "from dask.distributed import Client\n",
    "from dask_jobqueue import SLURMCluster"
   ]
  },
  {
   "cell_type": "markdown",
   "metadata": {},
   "source": [
    "# Cluster only needed for ocean files"
   ]
  },
  {
   "cell_type": "code",
   "execution_count": 2,
   "metadata": {
    "Collapsed": "false"
   },
   "outputs": [],
   "source": [
    "cluster = SLURMCluster(\n",
    "    walltime='01:00:00', \n",
    "    cores=6, \n",
    "    memory='36GB', \n",
    "    job_extra=['--qos=\"express\"'])"
   ]
  },
  {
   "cell_type": "code",
   "execution_count": 3,
   "metadata": {
    "Collapsed": "false"
   },
   "outputs": [
    {
     "data": {
      "text/html": [
       "<table style=\"border: 2px solid white;\">\n",
       "<tr>\n",
       "<td style=\"vertical-align: top; border: 0px solid white\">\n",
       "<h3 style=\"text-align: left;\">Client</h3>\n",
       "<ul style=\"text-align: left; list-style: none; margin: 0; padding: 0;\">\n",
       "  <li><b>Scheduler: </b>tcp://10.141.0.138:35665</li>\n",
       "  <li><b>Dashboard: </b><a href='http://10.141.0.138:8787/status' target='_blank'>http://10.141.0.138:8787/status</a></li>\n",
       "</ul>\n",
       "</td>\n",
       "<td style=\"vertical-align: top; border: 0px solid white\">\n",
       "<h3 style=\"text-align: left;\">Cluster</h3>\n",
       "<ul style=\"text-align: left; list-style:none; margin: 0; padding: 0;\">\n",
       "  <li><b>Workers: </b>0</li>\n",
       "  <li><b>Cores: </b>0</li>\n",
       "  <li><b>Memory: </b>0 B</li>\n",
       "</ul>\n",
       "</td>\n",
       "</tr>\n",
       "</table>"
      ],
      "text/plain": [
       "<Client: 'tcp://10.141.0.138:35665' processes=0 threads=0, memory=0 B>"
      ]
     },
     "execution_count": 3,
     "metadata": {},
     "output_type": "execute_result"
    }
   ],
   "source": [
    "cluster.scale(jobs=6)\n",
    "client = Client(cluster)\n",
    "client"
   ]
  },
  {
   "cell_type": "markdown",
   "metadata": {},
   "source": [
    "# Surface winds"
   ]
  },
  {
   "cell_type": "code",
   "execution_count": 4,
   "metadata": {},
   "outputs": [],
   "source": [
    "REGIONS = ['AUS', 'MEL', 'TAS']"
   ]
  },
  {
   "cell_type": "code",
   "execution_count": 3,
   "metadata": {},
   "outputs": [],
   "source": [
    "def wind_speed(u,v):\n",
    "    return xr.ufuncs.sqrt(u ** 2 + v ** 2).to_dataset(name='V_ref')"
   ]
  },
  {
   "cell_type": "code",
   "execution_count": 4,
   "metadata": {},
   "outputs": [],
   "source": [
    "for region in REGIONS:\n",
    "    # f6\n",
    "    ds = my.open_mfzarr(\n",
    "        [f'data/f6_u_ref_{region}_raw.zarr',\n",
    "         f'data/f6_v_ref_{region}_raw.zarr'])\n",
    "    V_ref = wind_speed(ds['u_ref'], ds['v_ref'])\n",
    "    my.to_zarr(V_ref, f'data/f6_V_ref_{region}_raw.zarr')\n",
    "    \n",
    "    # f5\n",
    "    ds = my.open_mfzarr(\n",
    "        [f'data/f5_u_ref_{region}_raw.zarr',\n",
    "         f'data/f5_v_ref_{region}_raw.zarr'])\n",
    "    V_ref = wind_speed(ds['u_ref'], ds['v_ref'])\n",
    "    my.to_zarr(V_ref, f'data/f5_V_ref_{region}_raw.zarr')\n",
    "    \n",
    "    # JRA55\n",
    "    ds = my.open_mfzarr(\n",
    "        [f'data/jra55_u_ref_{region}.zarr',\n",
    "         f'data/jra55_v_ref_{region}.zarr'])\n",
    "    V_ref = wind_speed(ds['u_ref'], ds['v_ref'])\n",
    "    my.to_zarr(V_ref, f'data/jra55_V_ref_{region}.zarr')\n",
    "    \n",
    "    # JRA55\n",
    "    ds = my.open_mfzarr(\n",
    "        [f'data/jra55_u_ref_{region}_ts.zarr',\n",
    "         f'data/jra55_v_ref_{region}_ts.zarr'])\n",
    "    V_ref = wind_speed(ds['u_ref'], ds['v_ref'])\n",
    "    my.to_zarr(V_ref, f'data/jra55_V_ref_{region}_ts.zarr')"
   ]
  },
  {
   "cell_type": "markdown",
   "metadata": {},
   "source": [
    "# NINO3.4"
   ]
  },
  {
   "cell_type": "code",
   "execution_count": 12,
   "metadata": {},
   "outputs": [],
   "source": [
    "def latlon_average(ds, box, wrap_lons=True, lat_name='lat', lon_name='lon'):\n",
    "    def _get_latlon_region(ds, box, wrap_lons=True):\n",
    "        ds = ds.assign_coords({lon_name: (ds[lon_name] + 360)  % 360})\n",
    "        lon_inds = np.where(\n",
    "            np.logical_and(ds[lon_name].values>=box[2], \n",
    "                           ds[lon_name].values<=box[3]))[0]\n",
    "        lat_inds = np.where(\n",
    "            np.logical_and(ds[lat_name].values>=box[0], \n",
    "                           ds[lat_name].values<=box[1]))[0]\n",
    "        return ds.isel({lon_name: lon_inds, lat_name: lat_inds})\n",
    "    \n",
    "    return _get_latlon_region(ds, box, wrap_lons).mean(dim=[lat_name, lon_name])\n",
    "    \n",
    "def nino34(sst_anom, wrap_lons=True, lat_name='lat', lon_name='lon'):\n",
    "    box = [-5.0,5.0,190.0,240.0]\n",
    "        \n",
    "    return latlon_average(sst_anom, box, wrap_lons, lat_name, lon_name)"
   ]
  },
  {
   "cell_type": "code",
   "execution_count": 13,
   "metadata": {},
   "outputs": [],
   "source": [
    "sst = my.open_zarr(f'data/f6_sst_NATIVE_raw.zarr.zip')\n",
    "nino34 = nino34(sst, lat_name='yt_ocean', lon_name='xt_ocean').rename({'sst':'nino34'})\n",
    "my.to_zarr(nino34, f'data/f6_nino34_raw.zarr')"
   ]
  },
  {
   "cell_type": "markdown",
   "metadata": {},
   "source": [
    "# DMI"
   ]
  },
  {
   "cell_type": "code",
   "execution_count": 20,
   "metadata": {},
   "outputs": [],
   "source": [
    "def dmi(sst_anom, wrap_lons=True, lat_name='lat', lon_name='lon'):\n",
    "    boxW = [-10.0,10.0,50.0,70.0]\n",
    "    boxE = [-10.0,0.0,90.0,110.0]\n",
    "    \n",
    "    da_W = latlon_average(sst_anom, boxW, wrap_lons, lat_name, lon_name)\n",
    "    da_E = latlon_average(sst_anom, boxE, wrap_lons, lat_name, lon_name)\n",
    "    \n",
    "    return (da_W - da_E)"
   ]
  },
  {
   "cell_type": "code",
   "execution_count": 21,
   "metadata": {
    "Collapsed": "false"
   },
   "outputs": [
    {
     "name": "stderr",
     "output_type": "stream",
     "text": [
      "/scratch1/squ027/.conda/envs/pangeo/lib/python3.9/site-packages/xarray/core/indexing.py:1385: PerformanceWarning: Slicing is producing a large chunk. To accept the large\n",
      "chunk and silence this warning, set the option\n",
      "    >>> with dask.config.set(**{'array.slicing.split_large_chunks': False}):\n",
      "    ...     array[indexer]\n",
      "\n",
      "To avoid creating the large chunks, set the option\n",
      "    >>> with dask.config.set(**{'array.slicing.split_large_chunks': True}):\n",
      "    ...     array[indexer]\n",
      "  value = value[(slice(None),) * axis + (subkey,)]\n",
      "/scratch1/squ027/.conda/envs/pangeo/lib/python3.9/site-packages/xarray/core/indexing.py:1385: PerformanceWarning: Slicing is producing a large chunk. To accept the large\n",
      "chunk and silence this warning, set the option\n",
      "    >>> with dask.config.set(**{'array.slicing.split_large_chunks': False}):\n",
      "    ...     array[indexer]\n",
      "\n",
      "To avoid creating the large chunks, set the option\n",
      "    >>> with dask.config.set(**{'array.slicing.split_large_chunks': True}):\n",
      "    ...     array[indexer]\n",
      "  value = value[(slice(None),) * axis + (subkey,)]\n"
     ]
    }
   ],
   "source": [
    "sst = my.open_zarr(f'data/f6_sst_NATIVE_raw.zarr.zip')\n",
    "dmi = dmi(sst, lat_name='yt_ocean', lon_name='xt_ocean').rename({'sst':'dmi'})\n",
    "my.to_zarr(dmi, f'data/f6_dmi_raw.zarr')"
   ]
  },
  {
   "cell_type": "code",
   "execution_count": 22,
   "metadata": {},
   "outputs": [],
   "source": [
    "cluster.close()\n",
    "client.close()"
   ]
  },
  {
   "cell_type": "code",
   "execution_count": null,
   "metadata": {},
   "outputs": [],
   "source": []
  }
 ],
 "metadata": {
  "kernelspec": {
   "display_name": "Python 3",
   "language": "python",
   "name": "python3"
  },
  "language_info": {
   "codemirror_mode": {
    "name": "ipython",
    "version": 3
   },
   "file_extension": ".py",
   "mimetype": "text/x-python",
   "name": "python",
   "nbconvert_exporter": "python",
   "pygments_lexer": "ipython3",
   "version": "3.9.4"
  }
 },
 "nbformat": 4,
 "nbformat_minor": 4
}
