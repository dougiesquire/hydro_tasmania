{
 "cells": [
  {
   "cell_type": "markdown",
   "metadata": {},
   "source": [
    "# Prep variables for HydroTas 2020-2021 workplan:\n",
    "- Skill assessment\n",
    "  - rainfall, surface temp and surface wind over Australia region and Tasmania region\n",
    "  - Assess skill as function of start month and ensemble size\n",
    "- UNSEEN\n",
    "  - Tasmanian rainfall and Melbourne surface temperature"
   ]
  },
  {
   "cell_type": "code",
   "execution_count": 1,
   "metadata": {},
   "outputs": [],
   "source": [
    "import xarray as xr\n",
    "import myfuncs as my\n",
    "from dask.distributed import Client\n",
    "from dask_jobqueue import SLURMCluster"
   ]
  },
  {
   "cell_type": "markdown",
   "metadata": {},
   "source": [
    "# Surface winds"
   ]
  },
  {
   "cell_type": "code",
   "execution_count": 2,
   "metadata": {},
   "outputs": [],
   "source": [
    "REGIONS = ['AUS', 'MEL', 'TAS']"
   ]
  },
  {
   "cell_type": "code",
   "execution_count": 3,
   "metadata": {},
   "outputs": [],
   "source": [
    "def wind_speed(u,v):\n",
    "    return xr.ufuncs.sqrt(u ** 2 + v ** 2).to_dataset(name='V_ref')"
   ]
  },
  {
   "cell_type": "code",
   "execution_count": 4,
   "metadata": {},
   "outputs": [],
   "source": [
    "for region in REGIONS:\n",
    "    # f6\n",
    "    ds = my.open_mfzarr(\n",
    "        [f'data/f6_u_ref_{region}_raw.zarr.zip',\n",
    "         f'data/f6_v_ref_{region}_raw.zarr.zip'])\n",
    "    V_ref = wind_speed(ds['u_ref'], ds['v_ref'])\n",
    "    my.to_zarr(V_ref, f'data/f6_V_ref_{region}_raw.zarr')\n",
    "    \n",
    "    # JRA55\n",
    "    ds = my.open_mfzarr(\n",
    "        [f'data/jra55_u_ref_{region}.zarr.zip',\n",
    "         f'data/jra55_v_ref_{region}.zarr.zip'])\n",
    "    V_ref = wind_speed(ds['u_ref'], ds['v_ref'])\n",
    "    my.to_zarr(V_ref, f'data/jra55_V_ref_{region}.zarr')"
   ]
  },
  {
   "cell_type": "code",
   "execution_count": null,
   "metadata": {},
   "outputs": [],
   "source": []
  }
 ],
 "metadata": {
  "kernelspec": {
   "display_name": "Python 3",
   "language": "python",
   "name": "python3"
  },
  "language_info": {
   "codemirror_mode": {
    "name": "ipython",
    "version": 3
   },
   "file_extension": ".py",
   "mimetype": "text/x-python",
   "name": "python",
   "nbconvert_exporter": "python",
   "pygments_lexer": "ipython3",
   "version": "3.8.5"
  }
 },
 "nbformat": 4,
 "nbformat_minor": 4
}
